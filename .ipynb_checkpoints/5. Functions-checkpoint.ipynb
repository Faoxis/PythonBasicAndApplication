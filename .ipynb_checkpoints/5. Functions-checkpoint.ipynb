{
 "cells": [
  {
   "cell_type": "markdown",
   "metadata": {},
   "source": [
    "# Работа с функциями: functool и лямбда функции"
   ]
  },
  {
   "cell_type": "markdown",
   "metadata": {},
   "source": [
    "### Лямбда-функции в Python - это всего лишь синтаксис для создания новых объектов-функций"
   ]
  },
  {
   "cell_type": "code",
   "execution_count": 2,
   "metadata": {
    "collapsed": false
   },
   "outputs": [
    {
     "name": "stdout",
     "output_type": "stream",
     "text": [
      "True\n",
      "True\n"
     ]
    }
   ],
   "source": [
    "# Функция поиска четных чисел\n",
    "def even(x):\n",
    "    return x % 2 == 0\n",
    "print(even(124))\n",
    "\n",
    "# Функция поиска четных чисел с помощью labmda-выражения \n",
    "even = lambda x: x % 2 == 0\n",
    "print(even(124))"
   ]
  },
  {
   "cell_type": "markdown",
   "metadata": {},
   "source": [
    "#### Синтаксис лямбда-выражений"
   ]
  },
  {
   "cell_type": "markdown",
   "metadata": {},
   "source": [
    "##### Вначале идет ключевое слово lambda , после которого идет аргумент функции (который может указываться с * и **). После двоеточия указывается выражение, которое должно быть возвращаемым."
   ]
  },
  {
   "cell_type": "markdown",
   "metadata": {},
   "source": [
    "#### Преимуществом лямбда-фукнций являет и то, что их можно вызывать не по имени, а напрямую"
   ]
  },
  {
   "cell_type": "code",
   "execution_count": null,
   "metadata": {
    "collapsed": true
   },
   "outputs": [],
   "source": [
    "x = input().split()\n",
    "xs = (int(i) for i in x)\n",
    "\n",
    "\n",
    "evens = list(list(fileter(lambda x: x % 2, xs)))"
   ]
  }
 ],
 "metadata": {
  "kernelspec": {
   "display_name": "Python 3",
   "language": "python",
   "name": "python3"
  },
  "language_info": {
   "codemirror_mode": {
    "name": "ipython",
    "version": 3
   },
   "file_extension": ".py",
   "mimetype": "text/x-python",
   "name": "python",
   "nbconvert_exporter": "python",
   "pygments_lexer": "ipython3",
   "version": "3.5.0"
  }
 },
 "nbformat": 4,
 "nbformat_minor": 0
}
