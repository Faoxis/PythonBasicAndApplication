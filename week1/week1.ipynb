{
 "cells": [
  {
   "cell_type": "markdown",
   "metadata": {},
   "source": [
    "# Неделя 1. Базовые принципы языка Python"
   ]
  },
  {
   "cell_type": "markdown",
   "metadata": {},
   "source": [
    "##  Модель данных: объекты"
   ]
  },
  {
   "cell_type": "code",
   "execution_count": 23,
   "metadata": {
    "collapsed": false
   },
   "outputs": [
    {
     "name": "stdout",
     "output_type": "stream",
     "text": [
      "102\n"
     ]
    }
   ],
   "source": [
    "# Задача 1\n",
    "# Кэш объекта со значением True и объекта со значение 1 одинаков, поэтому 1 == True = True\n",
    "# Тоже самое 0 и False - 0 == False = True\n",
    "import random\n",
    "\n",
    "def mapObjects(myDict, value):\n",
    "    if myDict.get(value) is not None:\n",
    "        myDict[value] += 1\n",
    "    else:\n",
    "        myDict[value] = 1\n",
    "\n",
    "\n",
    "objects = []\n",
    "for i in range(100):\n",
    "    objects += [i]\n",
    "    \n",
    "    \n",
    "objects += [ True ]\n",
    "objects += [ False]\n",
    "\n",
    "myDict = dict()\n",
    "for obj in objects:\n",
    "    mapObjects(myDict, id(obj))\n",
    "\n",
    "print(len(myDict))"
   ]
  },
  {
   "cell_type": "markdown",
   "metadata": {
    "collapsed": true
   },
   "source": [
    "## Функции и стек вызовов "
   ]
  },
  {
   "cell_type": "markdown",
   "metadata": {},
   "source": [
    "##### Задача 1 "
   ]
  },
  {
   "cell_type": "code",
   "execution_count": 2,
   "metadata": {
    "collapsed": false
   },
   "outputs": [
    {
     "name": "stdout",
     "output_type": "stream",
     "text": [
      "15\n"
     ]
    }
   ],
   "source": [
    "def closest_mod_5(x):\n",
    "    i = x\n",
    "    while True:\n",
    "        if i % 5 == 0:\n",
    "            return i\n",
    "        i = i + 1\n",
    "        \n",
    "print(closest_mod_5(11))"
   ]
  },
  {
   "cell_type": "markdown",
   "metadata": {},
   "source": [
    "##### Для передачи в качестве аргументов функции список значений используется оператор *:"
   ]
  },
  {
   "cell_type": "code",
   "execution_count": 3,
   "metadata": {
    "collapsed": false
   },
   "outputs": [
    {
     "name": "stdout",
     "output_type": "stream",
     "text": [
      "10\n",
      "20\n"
     ]
    }
   ],
   "source": [
    "def myFunc(a, b):\n",
    "    print(a)\n",
    "    print(b)\n",
    "\n",
    "myList = [10, 20]\n",
    "myFunc(*myList) # эквивалентно myFunc(list[0], list[1])"
   ]
  },
  {
   "cell_type": "markdown",
   "metadata": {},
   "source": [
    "##### В качестве аргументов можно использовать и словарь, для этого используется оператор **:"
   ]
  },
  {
   "cell_type": "code",
   "execution_count": 8,
   "metadata": {
    "collapsed": false
   },
   "outputs": [
    {
     "name": "stdout",
     "output_type": "stream",
     "text": [
      "20\n",
      "10\n"
     ]
    }
   ],
   "source": [
    "myDict = {'b':10, 'a':20} # ключ должен обязательно совпадать с именем аргумента\n",
    "myFunc(**myDict)"
   ]
  },
  {
   "cell_type": "markdown",
   "metadata": {},
   "source": [
    "##### Использование оператора * в качестве приема аргументов функции позволяет объединить набор элементов в один список:"
   ]
  },
  {
   "cell_type": "code",
   "execution_count": 9,
   "metadata": {
    "collapsed": false
   },
   "outputs": [
    {
     "name": "stdout",
     "output_type": "stream",
     "text": [
      "positional argument a  10\n",
      "positional argument b  20\n",
      "additional arguments:\n",
      "30\n",
      "40\n",
      "50\n"
     ]
    }
   ],
   "source": [
    "def printab(a, b, *args):\n",
    "    print('positional argument a ', a)\n",
    "    print('positional argument b ', b)\n",
    "    print(\"additional arguments:\")\n",
    "    for arg in args:\n",
    "        print(arg)\n",
    "\n",
    "printab(10, 20, 30, 40, 50)"
   ]
  },
  {
   "cell_type": "markdown",
   "metadata": {},
   "source": [
    "##### Существует похожий механизм и для именнованных аргументов:"
   ]
  },
  {
   "cell_type": "code",
   "execution_count": 35,
   "metadata": {
    "collapsed": false
   },
   "outputs": [
    {
     "name": "stdout",
     "output_type": "stream",
     "text": [
      "positional argument a  10\n",
      "positional argument b  20\n",
      "additional arguments:\n",
      "c 30\n",
      "jimmi 123\n",
      "d 40\n"
     ]
    }
   ],
   "source": [
    "def printab(a, b, **kwargs):\n",
    "    print('positional argument a ', a)\n",
    "    print('positional argument b ', b)\n",
    "    print(\"additional arguments:\")\n",
    "    for key in kwargs:\n",
    "        print(key, kwargs[key])\n",
    "\n",
    "printab(10, 20, c = 30, d = 40, jimmi = 123)"
   ]
  },
  {
   "cell_type": "markdown",
   "metadata": {},
   "source": [
    "##### Формальное, синтаксически  "
   ]
  },
  {
   "cell_type": "markdown",
   "metadata": {},
   "source": [
    "def function_name ([ position_args,                    - позиционные элементы"
   ]
  },
  {
   "cell_type": "markdown",
   "metadata": {},
   "source": [
    "                   [ porisional_args_with_default,     - позиционные элементы со значениями по умолчанию"
   ]
  },
  {
   "cell_type": "markdown",
   "metadata": {},
   "source": [
    "                   [ *pos_args_name,                    - имя кортежа, куда кладутся элементы, которые не участвовали в инициализации"
   ]
  },
  {
   "cell_type": "markdown",
   "metadata": {},
   "source": [
    "                   [ keyword_only_args,                  - блок элементов, который можно передать только по имени"
   ]
  },
  {
   "cell_type": "markdown",
   "metadata": {},
   "source": [
    "                   [ **kw_args_name]]]]]):                - имя словаря, в который складываются все именнованные переменные, которые в инициализации не участвовали"
   ]
  },
  {
   "cell_type": "markdown",
   "metadata": {},
   "source": [
    "###### Пример:"
   ]
  },
  {
   "cell_type": "code",
   "execution_count": 38,
   "metadata": {
    "collapsed": false,
    "scrolled": false
   },
   "outputs": [
    {
     "name": "stdout",
     "output_type": "stream",
     "text": [
      "15 10 10 15\n"
     ]
    }
   ],
   "source": [
    "def printab(a, b = 10, *args, c = 10, d, **kwargs):\n",
    "    print(a, b, c, d)\n",
    "printab(15, d = 15)"
   ]
  },
  {
   "cell_type": "code",
   "execution_count": 48,
   "metadata": {
    "collapsed": false
   },
   "outputs": [
    {
     "name": "stdout",
     "output_type": "stream",
     "text": [
      "31\n"
     ]
    }
   ],
   "source": [
    "def s(a, *vs, b=10):\n",
    "   res = a + b\n",
    "   for v in vs:\n",
    "       res += v\n",
    "   return res\n",
    "print(s(11, 10))"
   ]
  },
  {
   "cell_type": "markdown",
   "metadata": {},
   "source": [
    "##### Задача "
   ]
  },
  {
   "cell_type": "code",
   "execution_count": 51,
   "metadata": {
    "collapsed": false
   },
   "outputs": [
    {
     "name": "stdout",
     "output_type": "stream",
     "text": [
      "3 2\n",
      "3\n"
     ]
    }
   ],
   "source": [
    "def myFunc(n, k):\n",
    "    if k > n:\n",
    "        return 0\n",
    "    if k == 0:\n",
    "        return 1\n",
    "    return myFunc(n - 1, k) + myFunc(n - 1, k - 1)\n",
    "\n",
    "myList = [int(i) for i in input().split(\" \")]\n",
    "print(myFunc(*myList))"
   ]
  },
  {
   "cell_type": "markdown",
   "metadata": {},
   "source": [
    "## Пространство имен и области видимости "
   ]
  },
  {
   "cell_type": "markdown",
   "metadata": {},
   "source": [
    "Пространство имен - сопоставление реальных имен переменных к их именам в пространстве оперативной памяти"
   ]
  },
  {
   "cell_type": "markdown",
   "metadata": {},
   "source": [
    "builtins - пространство имен, которое создается сразу же после запуска интерпритатора и содержит такие имена как int, float, max, print и т.д."
   ]
  },
  {
   "cell_type": "markdown",
   "metadata": {},
   "source": [
    "main - пространство имен, которое содержит пользовательские глобальные переменные, пользовательские имена функций и прочее, что было создано пользователем. "
   ]
  },
  {
   "cell_type": "markdown",
   "metadata": {},
   "source": [
    "Когда интерпритатор переходит к выполнению некоторой функции - создается локальное пространство имен и разрушатся при выходе из функции"
   ]
  },
  {
   "cell_type": "markdown",
   "metadata": {},
   "source": [
    "Локальная область видимости не создается в условных операторах и циклах "
   ]
  },
  {
   "cell_type": "markdown",
   "metadata": {},
   "source": [
    "##### Пример "
   ]
  },
  {
   "cell_type": "code",
   "execution_count": 57,
   "metadata": {
    "collapsed": false
   },
   "outputs": [
    {
     "name": "stdout",
     "output_type": "stream",
     "text": [
      "4\n"
     ]
    }
   ],
   "source": [
    "for i in range(5):\n",
    "    i = i\n",
    "print(i)"
   ]
  },
  {
   "cell_type": "markdown",
   "metadata": {},
   "source": [
    "Из локальной области видимости можно обратиться к глобальной области видимости с помощью ключевого слова global"
   ]
  },
  {
   "cell_type": "markdown",
   "metadata": {},
   "source": [
    "##### Пример "
   ]
  },
  {
   "cell_type": "code",
   "execution_count": 61,
   "metadata": {
    "collapsed": false
   },
   "outputs": [
    {
     "name": "stdout",
     "output_type": "stream",
     "text": [
      "True\n",
      "True\n",
      "False\n",
      "False\n"
     ]
    }
   ],
   "source": [
    "ok_status = True\n",
    "vowels = [\"a\", \"u\", \"i\", \"e\", \"o\"]\n",
    "\n",
    "def check(word):\n",
    "    global ok_status # говорим о том, что переменная ok_status - глобальнаяи\n",
    "    for vowel in vowels:\n",
    "        if vowel in word:\n",
    "            return True\n",
    "        \n",
    "    ok_status = False\n",
    "    return False\n",
    "\n",
    "print(check(\"abacaba\"))\n",
    "print(ok_status)\n",
    "print(check(\"www\"))\n",
    "print(ok_status)"
   ]
  },
  {
   "cell_type": "markdown",
   "metadata": {},
   "source": [
    "Но надо быть осторожным с вызывом из глобальной области видимости. Может случится следующее:"
   ]
  },
  {
   "cell_type": "code",
   "execution_count": 63,
   "metadata": {
    "collapsed": false
   },
   "outputs": [
    {
     "name": "stdout",
     "output_type": "stream",
     "text": [
      "True\n",
      "True\n",
      "False\n",
      "True\n",
      "False\n"
     ]
    }
   ],
   "source": [
    "def f():\n",
    "    ok_status = True\n",
    "    vowels = [\"a\", \"u\", \"i\", \"e\", \"o\"]\n",
    "    \n",
    "    def check(word):\n",
    "        global os_status\n",
    "        for vowel in vowels:\n",
    "            if vowel in word:\n",
    "                return True\n",
    "            \n",
    "        ok_status = False\n",
    "        return False\n",
    "    \n",
    "    print(check(\"abacaba\"))\n",
    "    print(ok_status)\n",
    "    print(check(\"www\"))\n",
    "    print(ok_status)\n",
    "    \n",
    "f()\n",
    "print(ok_status) # ok_status появилась в глобальной области видимости и оно не равно значению из функции"
   ]
  },
  {
   "cell_type": "markdown",
   "metadata": {},
   "source": [
    "Если требуется обратить к ближайшему пространству имен по стеку вызова выше текущего (не обязательно global), то используется ключевое слово nonlocal."
   ]
  },
  {
   "cell_type": "markdown",
   "metadata": {},
   "source": [
    "##### Пример "
   ]
  },
  {
   "cell_type": "code",
   "execution_count": 62,
   "metadata": {
    "collapsed": false
   },
   "outputs": [
    {
     "name": "stdout",
     "output_type": "stream",
     "text": [
      "False\n"
     ]
    }
   ],
   "source": [
    "def f():\n",
    "    ok_status = True\n",
    "    vowels = [\"a\", \"u\", \"i\", \"e\", \"o\"]\n",
    "    \n",
    "    def check(word):\n",
    "        nonlocal ok_status ## обращение к переменной vowels из f scope (область видимости функции f)\n",
    "        for vowel in vowels:\n",
    "            if vowel in word:\n",
    "                return True\n",
    "            \n",
    "            ok_status = False\n",
    "            return False\n",
    "        \n",
    "        print(check(\"abacaba\"))\n",
    "        print(ok_status)\n",
    "        print(check(\"www\"))\n",
    "        print(ok_status)\n",
    "        \n",
    "f()\n",
    "print(ok_status)"
   ]
  },
  {
   "cell_type": "markdown",
   "metadata": {},
   "source": [
    "#### Задача "
   ]
  },
  {
   "cell_type": "code",
   "execution_count": 42,
   "metadata": {
    "collapsed": false
   },
   "outputs": [
    {
     "name": "stdout",
     "output_type": "stream",
     "text": [
      "9\n",
      "add global a\n",
      "create foo global\n",
      "add foo b\n",
      "get foo a\n",
      "get foo c\n",
      "create bar foo\n",
      "add bar a\n",
      "get bar a\n",
      "get bar b\n",
      "global\n",
      "None\n",
      "bar\n",
      "foo\n"
     ]
    }
   ],
   "source": [
    "def searchElement(namespaces, key, value):\n",
    "    fun = key\n",
    "    \n",
    "    while fun != None:\n",
    "        if value in namespaces[fun]:\n",
    "            return fun\n",
    "        lst = namespaces[fun]\n",
    "        fun = lst[0]\n",
    "    return None\n",
    "\n",
    "n = int(input())\n",
    "\n",
    "count = 1\n",
    "namespaces = {'None': [None] ,'global': ['None']}\n",
    "ans = []\n",
    "\n",
    "for i in range(n):\n",
    "    inputData = [s for s in input().split(\" \")]\n",
    "    \n",
    "    if inputData[0] == 'add':\n",
    "        namespaces[inputData[1]] += [inputData[2]]\n",
    "\n",
    "    elif inputData[0] == 'create':\n",
    "        namespaces[inputData[1]] = [inputData[2]]\n",
    "        \n",
    "    elif inputData[0] == 'get':\n",
    "        ans += [searchElement(namespaces, inputData[1], inputData[2])]\n",
    "        \n",
    "for i in ans:\n",
    "    print(i)"
   ]
  },
  {
   "cell_type": "markdown",
   "metadata": {},
   "source": [
    "## Введение в классы "
   ]
  },
  {
   "cell_type": "markdown",
   "metadata": {},
   "source": [
    "#### Синтаксис "
   ]
  },
  {
   "cell_type": "code",
   "execution_count": 85,
   "metadata": {
    "collapsed": false
   },
   "outputs": [
    {
     "name": "stdout",
     "output_type": "stream",
     "text": [
      "10\n",
      "Hello\n",
      "<class '__main__.myClass'>\n",
      "50\n",
      "15\n"
     ]
    }
   ],
   "source": [
    "class myClass:\n",
    "    a = 10\n",
    "    \n",
    "    def func(self):\n",
    "        print('Hello')\n",
    "        \n",
    "print(myClass.a)\n",
    "myClass.func(4)\n",
    "\n",
    "myClass.a = 50\n",
    "x = myClass() # экземпляр класса (instance object) создается через конструктор\n",
    "y = myClass()\n",
    "y.a = 15\n",
    "print(type(x))\n",
    "print(x.a)\n",
    "print(y.a)"
   ]
  },
  {
   "cell_type": "markdown",
   "metadata": {},
   "source": [
    "Определить поведение конструктора класса можно с помощью функции __init__(self) - обязательным входным аргументом такой функции является self - ссылка на текущий объект. "
   ]
  },
  {
   "cell_type": "code",
   "execution_count": 72,
   "metadata": {
    "collapsed": false
   },
   "outputs": [
    {
     "name": "stdout",
     "output_type": "stream",
     "text": [
      "0\n",
      "1\n"
     ]
    }
   ],
   "source": [
    "class Counter:\n",
    "    def __init__(self, start = 0): # помимо self в методе могут быть и другие аргументы, но self обязан быть первым\n",
    "        self.count = start  # внутри конструктора можно присвоить классу некоторые атрибуты\n",
    "        \n",
    "Counter\n",
    "x1 = Counter(10)\n",
    "x = Counter()\n",
    "print(x.count)\n",
    "x.count += 1\n",
    "print(x.count)"
   ]
  },
  {
   "cell_type": "markdown",
   "metadata": {},
   "source": [
    "##### Методы класса"
   ]
  },
  {
   "cell_type": "code",
   "execution_count": 74,
   "metadata": {
    "collapsed": false
   },
   "outputs": [
    {
     "name": "stdout",
     "output_type": "stream",
     "text": [
      "1\n",
      "2\n",
      "0\n"
     ]
    }
   ],
   "source": [
    "class Counter:\n",
    "    def __init__(self):\n",
    "        self.count = 0\n",
    "        \n",
    "    def inc(self):\n",
    "        self.count += 1\n",
    "    \n",
    "    def reset(self):\n",
    "        self.count = 0\n",
    "        \n",
    "        \n",
    "Counter\n",
    "x = Counter()\n",
    "x.inc()  # эта запись абсолютно эквивалентна этой: Counter.inc(x), то есть по умолчанию в метод класса передается сам объект\n",
    "print(x.count)\n",
    "Counter.inc(x) \n",
    "print(x.count)\n",
    "x.reset()\n",
    "print(x.count)"
   ]
  },
  {
   "cell_type": "markdown",
   "metadata": {},
   "source": [
    "В примере выше x.inc() - связанный метод (Bound Method). Связанные методы - специальные объекты, которые позволяет вначале найти функцию, а потом связывает ее с объектом."
   ]
  },
  {
   "cell_type": "markdown",
   "metadata": {},
   "source": [
    "##### Задача 1 "
   ]
  },
  {
   "cell_type": "code",
   "execution_count": 78,
   "metadata": {
    "collapsed": false
   },
   "outputs": [],
   "source": [
    "class MoneyBox:\n",
    "    def __init__(self, capacity):\n",
    "        self.capacity = capacity\n",
    "        self.v = 0\n",
    "\n",
    "    def can_add(self, v):\n",
    "        if self.v + v <= self.capacity:\n",
    "            return True\n",
    "        else:\n",
    "            return False\n",
    "\n",
    "    def add(self, v):\n",
    "        self.v += v"
   ]
  },
  {
   "cell_type": "markdown",
   "metadata": {},
   "source": [
    "##### Задача 2 "
   ]
  },
  {
   "cell_type": "code",
   "execution_count": 84,
   "metadata": {
    "collapsed": false
   },
   "outputs": [
    {
     "name": "stdout",
     "output_type": "stream",
     "text": [
      "[1, 2, 3]\n",
      "15\n",
      "[6]\n",
      "40\n",
      "[]\n",
      "5\n",
      "5\n",
      "[1]\n"
     ]
    }
   ],
   "source": [
    "class Buffer:\n",
    "    def __init__(self):\n",
    "        # конструктор без аргументов\n",
    "        self.list = []\n",
    "        \n",
    "    def add(self, *a):\n",
    "        # добавить следующую часть последовательности\n",
    "        for i in range(len(a)):\n",
    "            self.list += [a[i]] # и тут я понял, что можно было просто использовать метод строк extend, расширяющий лист\n",
    "            if len(self.list) == 5:\n",
    "                sum = 0\n",
    "                for i in range(5):\n",
    "                    sum += self.list.pop()\n",
    "                print(sum)\n",
    "\n",
    "    def get_current_part(self):\n",
    "        # вернуть сохраненные в текущий момент элементы последовательности в порядке, в котором они были     \n",
    "        # добавлены\n",
    "        return self.list\n",
    "\n",
    "buf = Buffer()\n",
    "buf.add(1, 2, 3)\n",
    "print(buf.get_current_part()) # вернуть [1, 2, 3]\n",
    "buf.add(4, 5, 6) # print(15) – вывод суммы первой пятерки элементов\n",
    "print(buf.get_current_part()) # вернуть [6]\n",
    "buf.add(7, 8, 9, 10) # print(40) – вывод суммы второй пятерки элементов\n",
    "print(buf.get_current_part()) # вернуть []\n",
    "buf.add(1, 1, 1, 1, 1, 1, 1, 1, 1, 1, 1) # print(5), print(5) – вывод сумм третьей и четвертой пятерки\n",
    "print(buf.get_current_part()) # вернуть [1]\n",
    "            "
   ]
  },
  {
   "cell_type": "markdown",
   "metadata": {},
   "source": [
    "Переменные, которые не указываются со ссылкой на класс(self) являются общими для всех классов (что-то типа static)."
   ]
  },
  {
   "cell_type": "code",
   "execution_count": null,
   "metadata": {
    "collapsed": true
   },
   "outputs": [],
   "source": [
    "class A:\n",
    "    val = 1\n",
    "    \n",
    "    def foo(self):\n",
    "        A.val += 2 # значение изменится для всего класса\n",
    "        \n",
    "    def bar(self):\n",
    "        self.val += 1 # значение изменится только для одного объекта"
   ]
  },
  {
   "cell_type": "markdown",
   "metadata": {},
   "source": [
    "## Наследование классов"
   ]
  },
  {
   "cell_type": "markdown",
   "metadata": {},
   "source": [
    "##### Синтаксис "
   ]
  },
  {
   "cell_type": "code",
   "execution_count": 4,
   "metadata": {
    "collapsed": false
   },
   "outputs": [
    {
     "name": "stdout",
     "output_type": "stream",
     "text": [
      "[]\n",
      "[1, 2, 3, 4, 5]\n",
      "False\n",
      "True\n"
     ]
    }
   ],
   "source": [
    "class MyList(list): # в скобках указыаем от какого класса наследоваться\n",
    "    def even_length(self): # добавляем новый метод\n",
    "        pass # ничего не делать\n",
    "        return len(self) % 2 == 0\n",
    "\n",
    "x = MyList()\n",
    "print(x)\n",
    "x.extend([1, 2, 3, 4, 5])\n",
    "print(x) # [1, 2, 3, 4, 5]\n",
    "print(x.even_length()) # False\n",
    "x.append(6)\n",
    "print(x.even_length()) #False"
   ]
  },
  {
   "cell_type": "markdown",
   "metadata": {},
   "source": [
    "В Python есть специальная функция для получения информации о наследовании - issubclass(arg1, arg2), которая возвращает True, если первый аргумент является наследником второго."
   ]
  },
  {
   "cell_type": "code",
   "execution_count": 5,
   "metadata": {
    "collapsed": false
   },
   "outputs": [
    {
     "data": {
      "text/plain": [
       "False"
      ]
     },
     "execution_count": 5,
     "metadata": {},
     "output_type": "execute_result"
    }
   ],
   "source": [
    "class D: pass\n",
    "class E: pass\n",
    "class B(D, E): pass\n",
    "class C: pass\n",
    "class A(B, C): pass\n",
    "\n",
    "issubclass(A, A) # True\n",
    "issubclass(C, D) # False\n",
    "issubclass(A, D) # True\n",
    "issubclass(C, object) # True\n",
    "issubclass(object, C) # False"
   ]
  },
  {
   "cell_type": "markdown",
   "metadata": {},
   "source": [
    "Для того, чтобы узнать является ли объект экземпляром некоторого класса используется функция isinstance"
   ]
  },
  {
   "cell_type": "code",
   "execution_count": 6,
   "metadata": {
    "collapsed": false
   },
   "outputs": [
    {
     "data": {
      "text/plain": [
       "False"
      ]
     },
     "execution_count": 6,
     "metadata": {},
     "output_type": "execute_result"
    }
   ],
   "source": [
    "x = A\n",
    "isinstance(x, A) # True\n",
    "isinstance(x, B) # True, т.к. B - предок A\n",
    "isinstance(x, object) # True\n",
    "isinstance(x, str) # False"
   ]
  },
  {
   "cell_type": "markdown",
   "metadata": {},
   "source": [
    "mro - метод класса object для определения предков класса"
   ]
  },
  {
   "cell_type": "code",
   "execution_count": 7,
   "metadata": {
    "collapsed": false
   },
   "outputs": [
    {
     "name": "stdout",
     "output_type": "stream",
     "text": [
      "[<class '__main__.A'>, <class '__main__.B'>, <class '__main__.D'>, <class '__main__.E'>, <class '__main__.C'>, <class 'object'>]\n"
     ]
    }
   ],
   "source": [
    "print(A.mro()) # Предки класса"
   ]
  },
  {
   "cell_type": "code",
   "execution_count": null,
   "metadata": {
    "collapsed": true
   },
   "outputs": [],
   "source": [
    "При множественном наследовании больший преоритет имеет тот класс, что был наследован раньше других в списке наследуемых объектов."
   ]
  },
  {
   "cell_type": "markdown",
   "metadata": {},
   "source": [
    "Для обращения к родительским методам используется метод super(arg1, arg2). arg1 - класс родителя, который мы хотим проверить, arg2 - объект с которым мы хотим связать метод."
   ]
  },
  {
   "cell_type": "code",
   "execution_count": 21,
   "metadata": {
    "collapsed": false
   },
   "outputs": [
    {
     "name": "stdout",
     "output_type": "stream",
     "text": [
      "Last value is 17\n",
      "17\n",
      "[1, 2, 4]\n"
     ]
    }
   ],
   "source": [
    "class EvenLengthMixin:\n",
    "    def even_length(self):\n",
    "        return len(self) % 2 == 0\n",
    "\n",
    "class MyList(list, EvenLengthMixin):\n",
    "    def pop(self):\n",
    "        x = super(MyList, self).pop()\n",
    "        print(\"Last value is\", x)\n",
    "        return x\n",
    "    \n",
    "ml = MySuperList([1, 2, 4, 17])\n",
    "z = ml.pop() # Last value is 17\n",
    "print(z) # 17\n",
    "print(ml) # [1, 2, 4]"
   ]
  },
  {
   "cell_type": "code",
   "execution_count": 27,
   "metadata": {
    "collapsed": false
   },
   "outputs": [
    {
     "name": "stdout",
     "output_type": "stream",
     "text": [
      "[<class '__main__.E'>, <class '__main__.B'>, <class '__main__.A'>, <class '__main__.D'>, <class '__main__.C'>, <class 'object'>]\n"
     ]
    }
   ],
   "source": [
    "class A:\n",
    "    pass\n",
    "\n",
    "class B(A):\n",
    "    pass\n",
    "\n",
    "class C:\n",
    "    pass\n",
    "\n",
    "class D(C):\n",
    "    pass\n",
    "\n",
    "class E(B, D, C):\n",
    "    pass\n",
    "print(E.mro())"
   ]
  },
  {
   "cell_type": "markdown",
   "metadata": {},
   "source": [
    "##### Задача 1 "
   ]
  },
  {
   "cell_type": "code",
   "execution_count": 2,
   "metadata": {
    "collapsed": false
   },
   "outputs": [
    {
     "name": "stdout",
     "output_type": "stream",
     "text": [
      "1\n",
      "A\n",
      "0\n"
     ]
    }
   ],
   "source": [
    "# Решена\n",
    "def searchChildren(classes, parent, child):\n",
    "\n",
    "    if parent == child:\n",
    "        return True\n",
    "\n",
    "    if child in classes[parent]:\n",
    "        return True\n",
    "\n",
    "    for grandparent in classes[parent]:\n",
    "        if searchChildren(classes, grandparent, child):\n",
    "            return True\n",
    "    return False\n",
    "\n",
    "\n",
    "lst = []\n",
    "classes = dict()\n",
    "\n",
    "n = int(input())\n",
    "for i in range(n):\n",
    "    line = input().split(\" \")\n",
    "    if ':' in line:\n",
    "        for i in range(2, len(line)):\n",
    "            if classes.get(line[0]) is not None:\n",
    "                classes[line[0]] += [line[i]]\n",
    "            else:\n",
    "                classes[line[0]] = [line[i]]\n",
    "            if classes.get(line[i]) is None:\n",
    "                classes[line[i]] = []\n",
    "    else:\n",
    "        for i in range(len(line)):\n",
    "            classes[line[i]] = []\n",
    "\n",
    "n = int(input())\n",
    "for i in range(n):\n",
    "    line = input().split()\n",
    "    lst += [(searchChildren(classes, line[1], line[0]))]\n",
    "\n",
    "# print(classes)\n",
    "for i in range(len(lst)):\n",
    "    if lst[i] == 0:\n",
    "        print(\"Yes\")\n",
    "    else:\n",
    "        print(\"No\")"
   ]
  },
  {
   "cell_type": "markdown",
   "metadata": {},
   "source": [
    "##### Задача 2 "
   ]
  },
  {
   "cell_type": "code",
   "execution_count": 10,
   "metadata": {
    "collapsed": false
   },
   "outputs": [
    {
     "name": "stdout",
     "output_type": "stream",
     "text": [
      "0\n"
     ]
    }
   ],
   "source": [
    "# Решена\n",
    "# Кстати, тут не совсем корректно используется переопределение методов, но ошибки, судя по всему, не возникает из-за того, \n",
    "# что класс является наследником только одного класса list\n",
    "class ExtendedStack(list):\n",
    "    def sum(self):\n",
    "        # операция сложения\n",
    "        self.append(self.pop() + self.pop())\n",
    "\n",
    "    def sub(self):\n",
    "        # операция вычитания\n",
    "        self.append(self.pop() - self.pop())\n",
    "\n",
    "    def mul(self):\n",
    "        # операция умножения\n",
    "        self.append(self.pop() * self.pop())\n",
    "\n",
    "    def div(self):\n",
    "        # операция целочисленного деления\n",
    "        self.append(self.pop() // self.pop())"
   ]
  },
  {
   "cell_type": "markdown",
   "metadata": {},
   "source": [
    "##### Задача 3 "
   ]
  },
  {
   "cell_type": "code",
   "execution_count": null,
   "metadata": {
    "collapsed": true
   },
   "outputs": [],
   "source": [
    "# Решена\n",
    "# Тут решение из задачи 2 уже не подойдет, т.к. присутствует множественное наследование (предположительно), \n",
    "# поэтому используется ключевое слово super\n",
    "import time\n",
    "\n",
    "class Loggable:\n",
    "    def log(self, msg):\n",
    "        print(str(time.ctime()) + \": \" + str(msg))\n",
    "\n",
    "class LoggableList(list, Loggable):\n",
    "    def append(self, obj):\n",
    "        super(LoggableList, self).append(obj)\n",
    "        super(LoggableList, self).log(obj)\n",
    "\n",
    "\n",
    "lst = LoggableList()\n",
    "lst.append('something1')\n",
    "lst.append('something2')"
   ]
  }
 ],
 "metadata": {
  "kernelspec": {
   "display_name": "Python 3",
   "language": "python",
   "name": "python3"
  },
  "language_info": {
   "codemirror_mode": {
    "name": "ipython",
    "version": 3
   },
   "file_extension": ".py",
   "mimetype": "text/x-python",
   "name": "python",
   "nbconvert_exporter": "python",
   "pygments_lexer": "ipython3",
   "version": "3.5.0"
  }
 },
 "nbformat": 4,
 "nbformat_minor": 0
}
