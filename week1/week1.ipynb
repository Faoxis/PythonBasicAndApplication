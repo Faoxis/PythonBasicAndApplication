{
 "cells": [
  {
   "cell_type": "markdown",
   "metadata": {},
   "source": [
    "# Неделя 1. Базовые принципы языка Python"
   ]
  },
  {
   "cell_type": "markdown",
   "metadata": {},
   "source": [
    "##  Модель данных: объекты"
   ]
  },
  {
   "cell_type": "code",
   "execution_count": 23,
   "metadata": {
    "collapsed": false
   },
   "outputs": [
    {
     "name": "stdout",
     "output_type": "stream",
     "text": [
      "102\n"
     ]
    }
   ],
   "source": [
    "# Задача 1\n",
    "# Кэш объекта со значением True и объекта со значение 1 одинаков, поэтому 1 == True = True\n",
    "# Тоже самое 0 и False - 0 == False = True\n",
    "import random\n",
    "\n",
    "def mapObjects(myDict, value):\n",
    "    if myDict.get(value) is not None:\n",
    "        myDict[value] += 1\n",
    "    else:\n",
    "        myDict[value] = 1\n",
    "\n",
    "\n",
    "objects = []\n",
    "for i in range(100):\n",
    "    objects += [i]\n",
    "    \n",
    "    \n",
    "objects += [ True ]\n",
    "objects += [ False]\n",
    "\n",
    "myDict = dict()\n",
    "for obj in objects:\n",
    "    mapObjects(myDict, id(obj))\n",
    "\n",
    "print(len(myDict))"
   ]
  },
  {
   "cell_type": "code",
   "execution_count": null,
   "metadata": {
    "collapsed": true
   },
   "outputs": [],
   "source": []
  }
 ],
 "metadata": {
  "kernelspec": {
   "display_name": "Python 3",
   "language": "python",
   "name": "python3"
  },
  "language_info": {
   "codemirror_mode": {
    "name": "ipython",
    "version": 3
   },
   "file_extension": ".py",
   "mimetype": "text/x-python",
   "name": "python",
   "nbconvert_exporter": "python",
   "pygments_lexer": "ipython3",
   "version": "3.5.1"
  }
 },
 "nbformat": 4,
 "nbformat_minor": 0
}
