{
 "cells": [
  {
   "cell_type": "markdown",
   "metadata": {},
   "source": [
    "# Неделя 1. Базовые принципы языка Python"
   ]
  },
  {
   "cell_type": "markdown",
   "metadata": {},
   "source": [
    "##  Модель данных: объекты"
   ]
  },
  {
   "cell_type": "code",
   "execution_count": 23,
   "metadata": {
    "collapsed": false
   },
   "outputs": [
    {
     "name": "stdout",
     "output_type": "stream",
     "text": [
      "102\n"
     ]
    }
   ],
   "source": [
    "# Задача 1\n",
    "# Кэш объекта со значением True и объекта со значение 1 одинаков, поэтому 1 == True = True\n",
    "# Тоже самое 0 и False - 0 == False = True\n",
    "import random\n",
    "\n",
    "def mapObjects(myDict, value):\n",
    "    if myDict.get(value) is not None:\n",
    "        myDict[value] += 1\n",
    "    else:\n",
    "        myDict[value] = 1\n",
    "\n",
    "\n",
    "objects = []\n",
    "for i in range(100):\n",
    "    objects += [i]\n",
    "    \n",
    "    \n",
    "objects += [ True ]\n",
    "objects += [ False]\n",
    "\n",
    "myDict = dict()\n",
    "for obj in objects:\n",
    "    mapObjects(myDict, id(obj))\n",
    "\n",
    "print(len(myDict))"
   ]
  },
  {
   "cell_type": "markdown",
   "metadata": {
    "collapsed": true
   },
   "source": [
    "## Функции и стек вызовов "
   ]
  },
  {
   "cell_type": "markdown",
   "metadata": {},
   "source": [
    "##### Задача 1 "
   ]
  },
  {
   "cell_type": "code",
   "execution_count": 2,
   "metadata": {
    "collapsed": false
   },
   "outputs": [
    {
     "name": "stdout",
     "output_type": "stream",
     "text": [
      "15\n"
     ]
    }
   ],
   "source": [
    "def closest_mod_5(x):\n",
    "    i = x\n",
    "    while True:\n",
    "        if i % 5 == 0:\n",
    "            return i\n",
    "        i = i + 1\n",
    "        \n",
    "print(closest_mod_5(11))"
   ]
  },
  {
   "cell_type": "markdown",
   "metadata": {},
   "source": [
    "##### Для передачи в качестве аргументов функции список значений используется оператор *:"
   ]
  },
  {
   "cell_type": "code",
   "execution_count": 3,
   "metadata": {
    "collapsed": false
   },
   "outputs": [
    {
     "name": "stdout",
     "output_type": "stream",
     "text": [
      "10\n",
      "20\n"
     ]
    }
   ],
   "source": [
    "def myFunc(a, b):\n",
    "    print(a)\n",
    "    print(b)\n",
    "\n",
    "myList = [10, 20]\n",
    "myFunc(*myList) # эквивалентно myFunc(list[0], list[1])"
   ]
  },
  {
   "cell_type": "markdown",
   "metadata": {},
   "source": [
    "##### В качестве аргументов можно использовать и словарь, для этого используется оператор **:"
   ]
  },
  {
   "cell_type": "code",
   "execution_count": 8,
   "metadata": {
    "collapsed": false
   },
   "outputs": [
    {
     "name": "stdout",
     "output_type": "stream",
     "text": [
      "20\n",
      "10\n"
     ]
    }
   ],
   "source": [
    "myDict = {'b':10, 'a':20} # ключ должен обязательно совпадать с именем аргумента\n",
    "myFunc(**myDict)"
   ]
  },
  {
   "cell_type": "markdown",
   "metadata": {},
   "source": [
    "##### Использование оператора * в качестве приема аргументов функции позволяет объединить набор элементов в один список:"
   ]
  },
  {
   "cell_type": "code",
   "execution_count": 9,
   "metadata": {
    "collapsed": false
   },
   "outputs": [
    {
     "name": "stdout",
     "output_type": "stream",
     "text": [
      "positional argument a  10\n",
      "positional argument b  20\n",
      "additional arguments:\n",
      "30\n",
      "40\n",
      "50\n"
     ]
    }
   ],
   "source": [
    "def printab(a, b, *args):\n",
    "    print('positional argument a ', a)\n",
    "    print('positional argument b ', b)\n",
    "    print(\"additional arguments:\")\n",
    "    for arg in args:\n",
    "        print(arg)\n",
    "\n",
    "printab(10, 20, 30, 40, 50)"
   ]
  },
  {
   "cell_type": "markdown",
   "metadata": {},
   "source": [
    "##### Существует похожий механизм и для именнованных аргументов:"
   ]
  },
  {
   "cell_type": "code",
   "execution_count": 35,
   "metadata": {
    "collapsed": false
   },
   "outputs": [
    {
     "name": "stdout",
     "output_type": "stream",
     "text": [
      "positional argument a  10\n",
      "positional argument b  20\n",
      "additional arguments:\n",
      "c 30\n",
      "jimmi 123\n",
      "d 40\n"
     ]
    }
   ],
   "source": [
    "def printab(a, b, **kwargs):\n",
    "    print('positional argument a ', a)\n",
    "    print('positional argument b ', b)\n",
    "    print(\"additional arguments:\")\n",
    "    for key in kwargs:\n",
    "        print(key, kwargs[key])\n",
    "\n",
    "printab(10, 20, c = 30, d = 40, jimmi = 123)"
   ]
  },
  {
   "cell_type": "markdown",
   "metadata": {},
   "source": [
    "##### Формальное, синтаксически  "
   ]
  },
  {
   "cell_type": "markdown",
   "metadata": {},
   "source": [
    "def function_name ([ position_args, - позиционные элементы\n",
    "                   [ porisional_args_with_default,  - позиционные элементы со значениями по умолчанию"
   ]
  },
  {
   "cell_type": "markdown",
   "metadata": {},
   "source": [
    "                   [ porisional_args_with_default,  - позиционные элементы со значениями по умолчанию"
   ]
  },
  {
   "cell_type": "markdown",
   "metadata": {},
   "source": [
    "                   [ *pos_args_name,"
   ]
  },
  {
   "cell_type": "markdown",
   "metadata": {},
   "source": [
    "                   [ keyword_only_args,"
   ]
  },
  {
   "cell_type": "markdown",
   "metadata": {},
   "source": [
    "                   [ **kw_args_name]]]]]):"
   ]
  }
 ],
 "metadata": {
  "kernelspec": {
   "display_name": "Python 3",
   "language": "python",
   "name": "python3"
  },
  "language_info": {
   "codemirror_mode": {
    "name": "ipython",
    "version": 3
   },
   "file_extension": ".py",
   "mimetype": "text/x-python",
   "name": "python",
   "nbconvert_exporter": "python",
   "pygments_lexer": "ipython3",
   "version": "3.5.0"
  }
 },
 "nbformat": 4,
 "nbformat_minor": 0
}
