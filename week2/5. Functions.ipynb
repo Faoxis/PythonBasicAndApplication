{
 "cells": [
  {
   "cell_type": "markdown",
   "metadata": {},
   "source": [
    "# Работа с функциями: functool и лямбда функции"
   ]
  },
  {
   "cell_type": "markdown",
   "metadata": {},
   "source": [
    "### Лямбда-функции в Python - это всего лишь синтаксис для создания новых объектов-функций"
   ]
  },
  {
   "cell_type": "code",
   "execution_count": 2,
   "metadata": {
    "collapsed": false
   },
   "outputs": [
    {
     "name": "stdout",
     "output_type": "stream",
     "text": [
      "True\n",
      "True\n"
     ]
    }
   ],
   "source": [
    "# Функция поиска четных чисел\n",
    "def even(x):\n",
    "    return x % 2 == 0\n",
    "print(even(124))\n",
    "\n",
    "# Функция поиска четных чисел с помощью labmda-выражения \n",
    "even = lambda x: x % 2 == 0\n",
    "print(even(124))"
   ]
  },
  {
   "cell_type": "markdown",
   "metadata": {},
   "source": [
    "#### Синтаксис лямбда-выражений"
   ]
  },
  {
   "cell_type": "markdown",
   "metadata": {},
   "source": [
    "##### Вначале идет ключевое слово lambda , после которого идет аргумент функции (который может указываться с * и **). После двоеточия указывается выражение, которое должно быть возвращаемым."
   ]
  },
  {
   "cell_type": "markdown",
   "metadata": {},
   "source": [
    "#### Преимуществом лямбда-фукнций являет и то, что их можно вызывать не по имени, а напрямую"
   ]
  },
  {
   "cell_type": "code",
   "execution_count": 6,
   "metadata": {
    "collapsed": false
   },
   "outputs": [
    {
     "name": "stdout",
     "output_type": "stream",
     "text": [
      "1 2 3 4 5 6 7\n",
      "[2, 4, 6]\n",
      "[2, 4, 6]\n"
     ]
    }
   ],
   "source": [
    "x = input().split()\n",
    "\n",
    "xs = (int(i) for i in x)\n",
    "\n",
    "# Такое выражение в две строчки\n",
    "even = lambda x: x % 2 == 0\n",
    "evens = list(filter(even, xs))\n",
    "print(evens)\n",
    "\n",
    "xs = (int(i) for i in x)\n",
    "\n",
    "# Может быть заменено на такое в одну\n",
    "evens = list(filter(lambda x: x % 2 == 0, xs))\n",
    "print(evens)"
   ]
  },
  {
   "cell_type": "markdown",
   "metadata": {},
   "source": [
    "### Для того, чтобы сделать из стандартного оператора функцию в языке Python используется библиотека  operator"
   ]
  },
  {
   "cell_type": "code",
   "execution_count": 14,
   "metadata": {
    "collapsed": false
   },
   "outputs": [
    {
     "name": "stdout",
     "output_type": "stream",
     "text": [
      "9\n",
      "20\n",
      "False\n",
      "2\n",
      "<built-in method sort of list object at 0x7f6941f202c8>\n"
     ]
    }
   ],
   "source": [
    "import operator as op\n",
    "\n",
    "print(op.add(4, 5)) # сложение\n",
    "print(op.mul(4, 5)) # умножение\n",
    "print(op.contains([1, 2, 3], 4)) # проверка - содержит ли список (первый аргумент) элемент (второй аргумент)\n",
    "\n",
    "x = [1, 2, 3]\n",
    "# конструктор itemgetter возвращет специальную функцию, которая может вернуть элемент по индексу\n",
    "# данный конструктор можно применить и к словарю, указав вместо индекса ключ\n",
    "f = op.itemgetter(1) # f(x) == x[1] <--- получили функцию, для того, \n",
    "                     # чтобы достать элемент с индексом 1 (т.к. аргумент = 1) \n",
    "print(f(x)) # Применяем полученную функцию к списку и выводим элемент с индексом 1\n",
    "\n",
    "# attrgetter позволяет получить атрибут объекта\n",
    "f = op.attrgetter(\"sort\") # получаем функцию f, которая вытаскивает атрибут sort из объекта\n",
    "print(f([])) # смотрим на атрибут sort у пустого списка"
   ]
  },
  {
   "cell_type": "markdown",
   "metadata": {},
   "source": [
    "### Одной из основных библиотек для работы с функциями является functools "
   ]
  },
  {
   "cell_type": "code",
   "execution_count": 17,
   "metadata": {
    "collapsed": false
   },
   "outputs": [
    {
     "name": "stdout",
     "output_type": "stream",
     "text": [
      "13\n"
     ]
    }
   ],
   "source": [
    "from functools import partial\n",
    "\n",
    "# Работать с двоичными числами можно так:\n",
    "x = int(\"1101\", base = 2)\n",
    "print(x)\n",
    "\n",
    "# Но это не удобно, т.к. постоянно приходится указывать аргумент base и помнить, что это двочная система"
   ]
  },
  {
   "cell_type": "markdown",
   "metadata": {},
   "source": [
    "##### Функция partial из библиотеки functools может взять некоторую функцию и частично подставляет в нее какие-то из аргументов, при этом возвращая функцию, в которую эти аргументы больше подставлять уже не нужно"
   ]
  },
  {
   "cell_type": "code",
   "execution_count": 22,
   "metadata": {
    "collapsed": false
   },
   "outputs": [
    {
     "name": "stdout",
     "output_type": "stream",
     "text": [
      "128\n"
     ]
    }
   ],
   "source": [
    "# Для облегчения работы можно воспользовать функцией partial\n",
    "int_2 = partial(int, base=2)\n",
    "x = int_2(\"10000000\")\n",
    "print(x)"
   ]
  },
  {
   "cell_type": "markdown",
   "metadata": {},
   "source": [
    "##### Воспользуемся полученными знания для того, чтобы отсортировать список кортежей по последнему символу"
   ]
  },
  {
   "cell_type": "code",
   "execution_count": 26,
   "metadata": {
    "collapsed": false
   },
   "outputs": [
    {
     "name": "stdout",
     "output_type": "stream",
     "text": [
      "[('Guido', 'van', 'Rossum'), ('Haskell', 'Churry'), ('John', 'Backus')]\n",
      "[('John', 'Backus'), ('Haskell', 'Churry'), ('Guido', 'van', 'Rossum')]\n",
      "['cba', 'abb', 'abc']\n"
     ]
    }
   ],
   "source": [
    "x = [\n",
    "    (\"Guido\", \"van\", \"Rossum\"),\n",
    "    (\"Haskell\", \"Churry\"),\n",
    "    (\"John\", \"Backus\")\n",
    "    ]\n",
    "\n",
    "import operator as op\n",
    "from functools import partial\n",
    "\n",
    "sort_by_last = partial(list.sort, key=op.itemgetter(-1))\n",
    "print(x)\n",
    "sort_by_last(x)\n",
    "print(x)\n",
    "\n",
    "y = [\"abc\", \"cba\", \"abb\"]\n",
    "sort_by_last(y) # данная функция сработает с последним элементом в каждой строке, т.е. результат: cba, abb, abc \n",
    "print(y)"
   ]
  },
  {
   "cell_type": "markdown",
   "metadata": {},
   "source": [
    "##### Задача"
   ]
  },
  {
   "cell_type": "code",
   "execution_count": 28,
   "metadata": {
    "collapsed": false
   },
   "outputs": [
    {
     "name": "stdout",
     "output_type": "stream",
     "text": [
      "True\n",
      "False\n",
      "True\n"
     ]
    }
   ],
   "source": [
    "def mod_checker(x, mod=0):\n",
    "    return lambda y: y % x == mod\n",
    "\n",
    "mod_3 = mod_checker(3)\n",
    "print(mod_3(3))\n",
    "print(mod_3(4))\n",
    "\n",
    "mod_3_1 = mod_checker(3, 1)\n",
    "print(mod_3_1(4))"
   ]
  }
 ],
 "metadata": {
  "kernelspec": {
   "display_name": "Python 3",
   "language": "python",
   "name": "python3"
  },
  "language_info": {
   "codemirror_mode": {
    "name": "ipython",
    "version": 3
   },
   "file_extension": ".py",
   "mimetype": "text/x-python",
   "name": "python",
   "nbconvert_exporter": "python",
   "pygments_lexer": "ipython3",
   "version": "3.5.1"
  }
 },
 "nbformat": 4,
 "nbformat_minor": 0
}
