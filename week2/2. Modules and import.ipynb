{
 "cells": [
  {
   "cell_type": "markdown",
   "metadata": {},
   "source": [
    "# Модули и импорт"
   ]
  },
  {
   "cell_type": "markdown",
   "metadata": {},
   "source": [
    "##### sys.modules - словарь (имя модуля: model obj), в котором хранятся имена вызываемых модулей. Если имя уже находится в словаре, то исполнения файла с ним не происходит."
   ]
  },
  {
   "cell_type": "markdown",
   "metadata": {},
   "source": [
    "##### Пример рыботы со словарем модулей: "
   ]
  },
  {
   "cell_type": "code",
   "execution_count": null,
   "metadata": {
    "collapsed": true
   },
   "outputs": [],
   "source": [
    "import sys\n",
    "print(type(sys.modules))\n",
    "print(sys.modules)"
   ]
  },
  {
   "cell_type": "markdown",
   "metadata": {},
   "source": [
    "##### Задача "
   ]
  },
  {
   "cell_type": "code",
   "execution_count": 14,
   "metadata": {
    "collapsed": false
   },
   "outputs": [
    {
     "name": "stdout",
     "output_type": "stream",
     "text": [
      "2016 12 20\n",
      "61\n",
      "2017 2 19\n"
     ]
    }
   ],
   "source": [
    "import datetime\n",
    "\n",
    "date_list = [int(i) for i in input().split()]\n",
    "\n",
    "old_date = datetime.date(year = date_list[0], month = date_list[1], day = date_list[2])\n",
    "new_date = old_date + datetime.timedelta(days = int(input()))\n",
    "\n",
    "print(new_date.year, new_date.month, new_date.day)"
   ]
  },
  {
   "cell_type": "markdown",
   "metadata": {},
   "source": [
    "##### Чтобы импортировать некоторые локальные имена из модуля используется конструкция: from some_module import some_local_name  "
   ]
  },
  {
   "cell_type": "markdown",
   "metadata": {},
   "source": [
    "##### Для импорта всех локальных имен используется следующая конструкция: from some_module import *"
   ]
  },
  {
   "cell_type": "markdown",
   "metadata": {},
   "source": [
    "##### Для того, чтобы ограничить импортированные имена, используется  список __all__, в который заносятся все импортируемые локальные имена"
   ]
  },
  {
   "cell_type": "markdown",
   "metadata": {},
   "source": [
    "##### Или локальное имя можно начать с нижнего подчеркивания (_example), тогда оно станет невидимым для других модулей."
   ]
  },
  {
   "cell_type": "markdown",
   "metadata": {},
   "source": [
    "##### Задача"
   ]
  }
 ],
 "metadata": {
  "kernelspec": {
   "display_name": "Python 3",
   "language": "python",
   "name": "python3"
  },
  "language_info": {
   "codemirror_mode": {
    "name": "ipython",
    "version": 3
   },
   "file_extension": ".py",
   "mimetype": "text/x-python",
   "name": "python",
   "nbconvert_exporter": "python",
   "pygments_lexer": "ipython3",
   "version": "3.5.1"
  }
 },
 "nbformat": 4,
 "nbformat_minor": 0
}
