{
 "cells": [
  {
   "cell_type": "markdown",
   "metadata": {},
   "source": [
    "# Работа с файловой системой и файлами"
   ]
  },
  {
   "cell_type": "markdown",
   "metadata": {},
   "source": [
    "## Работа с текстовыми файлами"
   ]
  },
  {
   "cell_type": "markdown",
   "metadata": {},
   "source": [
    "#### Чтение из файла"
   ]
  },
  {
   "cell_type": "markdown",
   "metadata": {},
   "source": [
    "##### open - функция для работы с файлами"
   ]
  },
  {
   "cell_type": "code",
   "execution_count": 10,
   "metadata": {
    "collapsed": false
   },
   "outputs": [
    {
     "name": "stdout",
     "output_type": "stream",
     "text": [
      "['First line', 'Second line', 'Third line']\n"
     ]
    }
   ],
   "source": [
    "# r (read)   - открыть для ччтения (по умолчанию)\n",
    "# w (write)  - открыть для записи, содержимое файла стирается\n",
    "# a (append) - открыть для записи, запись ведется в конец\n",
    "# b (binary) - открыть в бинарном режиме\n",
    "# t (text)   - открыть в текстовом режиме (по умолчанию)\n",
    "\n",
    "# r+ - открыть для чтения и записи\n",
    "# w+ - открыть для чтения и записи, содержимое файла стирается\n",
    "\n",
    "f = open(\"D:\\\\test.txt\")\n",
    "x = f.read()\n",
    "x = x.splitlines() # Метод splitlines возвращает список строк\n",
    "print(repr(x)) # Функция repr позволяет вывести не просто строку, а ее представление (т.е. со всякими \\n)\n",
    "\n",
    "\n",
    "f.close()"
   ]
  },
  {
   "cell_type": "markdown",
   "metadata": {},
   "source": [
    "##### Файл может оказаться слишком большим и тогда лучше считывать его построчно"
   ]
  },
  {
   "cell_type": "code",
   "execution_count": 14,
   "metadata": {
    "collapsed": false
   },
   "outputs": [
    {
     "name": "stdout",
     "output_type": "stream",
     "text": [
      "'First line\\n'\n",
      "'Second line'\n"
     ]
    }
   ],
   "source": [
    "f = open(\"D:\\\\test.txt\")\n",
    "x = f.readline()\n",
    "print(repr(x))\n",
    "\n",
    "x = f.readline().rstrip() # метод rstrip убирает справа все пробельные символы\n",
    "print(repr(x))\n",
    "\n",
    "f.close()"
   ]
  },
  {
   "cell_type": "markdown",
   "metadata": {},
   "source": [
    "##### У file object есть интеретор, который удобно использовать для чтения строк, т.к. он \"по умному\" расходует оперативную память."
   ]
  },
  {
   "cell_type": "code",
   "execution_count": 17,
   "metadata": {
    "collapsed": false
   },
   "outputs": [
    {
     "name": "stdout",
     "output_type": "stream",
     "text": [
      "'First line'\n",
      "'Second line'\n",
      "'Third line'\n"
     ]
    }
   ],
   "source": [
    "f = open(\"D:\\\\test.txt\")\n",
    "for line in f:\n",
    "    line = line.rstrip()\n",
    "    print(repr(line))\n",
    "    \n",
    "f.close()"
   ]
  },
  {
   "cell_type": "markdown",
   "metadata": {},
   "source": [
    "#### Запись в файл"
   ]
  },
  {
   "cell_type": "code",
   "execution_count": 19,
   "metadata": {
    "collapsed": true
   },
   "outputs": [],
   "source": [
    "f = open(\"D:\\\\test1.txt\", \"w\")\n",
    "f.write(\"Hello\")\n",
    "f.write(\" world!\")\n",
    "\n",
    "f.close()"
   ]
  },
  {
   "cell_type": "markdown",
   "metadata": {},
   "source": [
    "##### Метод write не делает переносов и необходимо всегда добавлять символ переноса строки. Чтобы это упростить часто использует метод join."
   ]
  },
  {
   "cell_type": "code",
   "execution_count": 24,
   "metadata": {
    "collapsed": false
   },
   "outputs": [],
   "source": [
    "f = open(\"D:\\\\test1.txt\", \"w\")\n",
    "lines = [\"Line 1\", \"Line 2\", \"Line 3\"]\n",
    "contents = \"\\n\".join(lines) # Добавляем после каждой строки \\n, кроме последней\n",
    "f.write(contents)\n",
    "\n",
    "f.close()"
   ]
  },
  {
   "cell_type": "markdown",
   "metadata": {},
   "source": [
    "#### Конструкция with"
   ]
  },
  {
   "cell_type": "markdown",
   "metadata": {},
   "source": [
    "##### Для того, чтобы не писать всяких try - finally (для 100%-ого закрытия файла), используется конструкция with:"
   ]
  },
  {
   "cell_type": "code",
   "execution_count": 26,
   "metadata": {
    "collapsed": false
   },
   "outputs": [
    {
     "name": "stdout",
     "output_type": "stream",
     "text": [
      "First line\n",
      "Second line\n",
      "Third line\n"
     ]
    }
   ],
   "source": [
    "with open(\"D:\\\\test.txt\") as f:\n",
    "    for line in f:\n",
    "        line = line.rstrip()\n",
    "        print(line)"
   ]
  },
  {
   "cell_type": "markdown",
   "metadata": {},
   "source": [
    "##### В одной конструкции with можно открыть несколько файлов"
   ]
  },
  {
   "cell_type": "code",
   "execution_count": 28,
   "metadata": {
    "collapsed": false
   },
   "outputs": [],
   "source": [
    "# Копирование текста из одного файла в другой\n",
    "with open(\"D:\\\\test.txt\") as f, open(\"D:\\\\test_copy.txt\", \"w\") as w:\n",
    "    for line in f:\n",
    "        w.write(line)"
   ]
  },
  {
   "cell_type": "markdown",
   "metadata": {},
   "source": [
    "#### Задачa 1"
   ]
  },
  {
   "cell_type": "code",
   "execution_count": 45,
   "metadata": {
    "collapsed": false
   },
   "outputs": [],
   "source": [
    "with open(\"D:\\\\dataset_24465_4.txt\") as f, open(\"D:\\\\back_copy.txt\", \"w\") as w:\n",
    "    lines = list()\n",
    "    for line in f:\n",
    "        lines += [line.rstrip()]\n",
    "    \n",
    "    lines = lines[::-1]\n",
    "    lines = \"\\n\".join(lines)\n",
    "    \n",
    "    for line in lines:\n",
    "        w.write(line)"
   ]
  },
  {
   "cell_type": "markdown",
   "metadata": {},
   "source": [
    "## Работа с файловой системой"
   ]
  },
  {
   "cell_type": "markdown",
   "metadata": {},
   "source": [
    "#### Самые используемые библиотеки для работы с файловой системой:"
   ]
  },
  {
   "cell_type": "markdown",
   "metadata": {},
   "source": [
    "##### 1. os"
   ]
  },
  {
   "cell_type": "markdown",
   "metadata": {},
   "source": [
    "##### 2.os.path"
   ]
  },
  {
   "cell_type": "code",
   "execution_count": null,
   "metadata": {
    "collapsed": false
   },
   "outputs": [],
   "source": [
    "import os\n",
    "import os.path\n",
    "\n",
    "print(os.getcwd()) # getcwd - узнать текущую директорию\n",
    "# os.chdir(\"..\\\\\") # chdir (change dir) - позволяет сменить текущую директорию, надо быть осторожным с этим методом. \n",
    "                   # Эффект от него сохраняет даже при перезапуске скрипта \n",
    "print(os.getcwd())\n",
    "\n",
    "print(os.listdir()) # listdir - файлы в текущей директории\n",
    "print(os.listdir(\"Videos\")) # listdir можно принимать в качестве аргумента относительный путь к какой-либо папке\n",
    "\n",
    "print(os.path.exists(\".jssc\"))  # exists проверяет текущую директорию на наличие файла \n",
    "print(os.path.exists(\"Videos\")) # или другой директории\n",
    "print(os.path.exists(\"ThereIsNoSuchFile\"))\n",
    "\n",
    "print(os.path.abspath(\".jssc\")) # функция path позволяет узнать полный путь до файла"
   ]
  },
  {
   "cell_type": "markdown",
   "metadata": {},
   "source": [
    "##### Одной из ключевых функций библиотеки os является функция os.walk, которая возвращает итератор со всеми каталогами и подкаталогами текущей директории. Каждый вызов итератора возвращает кортеж из 3-х элементов. "
   ]
  },
  {
   "cell_type": "markdown",
   "metadata": {},
   "source": [
    "###### 1. Строковое представления текущей директории, которую он осматривает."
   ]
  },
  {
   "cell_type": "markdown",
   "metadata": {},
   "source": [
    "###### 2. Список всех подпапок данной директории."
   ]
  },
  {
   "cell_type": "markdown",
   "metadata": {},
   "source": [
    "###### 3. Список всех файлов в данной директории"
   ]
  },
  {
   "cell_type": "markdown",
   "metadata": {},
   "source": [
    "###### Пример использования"
   ]
  },
  {
   "cell_type": "code",
   "execution_count": 1,
   "metadata": {
    "collapsed": false
   },
   "outputs": [],
   "source": [
    "import os.path\n",
    "\n",
    "# Список всех папок, попдпапок и файлов, начиная с текущей директории\n",
    "# for current_dir, dirs, files in os.walk(\".\"):\n",
    "#     print(current_dir, dirs, files)"
   ]
  },
  {
   "cell_type": "markdown",
   "metadata": {},
   "source": [
    "### Для  копирования файлов используются библиотека shutil"
   ]
  },
  {
   "cell_type": "code",
   "execution_count": 7,
   "metadata": {
    "collapsed": false
   },
   "outputs": [
    {
     "name": "stdout",
     "output_type": "stream",
     "text": [
      "\n",
      "\n",
      "Result:\n",
      "D:\\pytest\\ ['testdir1'] []\n",
      "D:\\pytest\\testdir1 [] ['test1.txt']\n",
      "\n",
      "\n",
      "Result:\n",
      "D:\\pytest\\ ['testdir1'] []\n",
      "D:\\pytest\\testdir1 [] ['test1.txt', 'test2.txt']\n",
      "\n",
      "\n",
      "Result:\n",
      "D:\\pytest\\ ['testdir1', 'testdir2'] []\n",
      "D:\\pytest\\testdir1 [] ['test1.txt', 'test2.txt']\n",
      "D:\\pytest\\testdir2 [] ['test1.txt', 'test2.txt']\n"
     ]
    }
   ],
   "source": [
    "import shutil\n",
    "\n",
    "def showPyDir():\n",
    "    print('\\n\\nResult:')\n",
    "    for current_dir, dirs, files in os.walk(\"D:\\\\pytest\\\\\"):\n",
    "        print(current_dir, dirs, files) \n",
    "\n",
    "showPyDir()\n",
    "        \n",
    "# Функция copy копирует файлы\n",
    "shutil.copy(\"D:\\\\pytest\\\\testdir1\\\\test1.txt\", \"D:\\\\pytest\\\\testdir1\\\\test2.txt\")\n",
    "showPyDir()\n",
    "\n",
    "# Функция copytree копирует директории\n",
    "shutil.copytree(\"D:\\\\pytest\\\\testdir1\", \"D:\\\\pytest\\\\testdir2\")\n",
    "showPyDir()"
   ]
  },
  {
   "cell_type": "markdown",
   "metadata": {},
   "source": [
    "#### Задача"
   ]
  },
  {
   "cell_type": "code",
   "execution_count": 23,
   "metadata": {
    "collapsed": false
   },
   "outputs": [
    {
     "name": "stdout",
     "output_type": "stream",
     "text": [
      "None\n"
     ]
    }
   ],
   "source": [
    "import os\n",
    "import os.path\n",
    "import shutil\n",
    "\n",
    "list_of_paths = list()\n",
    "\n",
    "for current_dir, dirs, files in os.walk(\"D:\\\\pytest\\\\main\\\\\"):\n",
    "    for file in files:\n",
    "        filename, file_extension = os.path.splitext(file)\n",
    "        if file_extension == \".py\" and current_dir not in list_of_paths:\n",
    "            list_of_paths += [current_dir]\n",
    "        \n",
    "list_of_paths.sort()\n",
    "with open(\"D:\\\\pytest\\\\task.txt\", 'w') as f:\n",
    "    f.write('\\n'.join(list_of_paths))\n"
   ]
  }
 ],
 "metadata": {
  "kernelspec": {
   "display_name": "Python 3",
   "language": "python",
   "name": "python3"
  },
  "language_info": {
   "codemirror_mode": {
    "name": "ipython",
    "version": 3
   },
   "file_extension": ".py",
   "mimetype": "text/x-python",
   "name": "python",
   "nbconvert_exporter": "python",
   "pygments_lexer": "ipython3",
   "version": "3.5.0"
  }
 },
 "nbformat": 4,
 "nbformat_minor": 0
}
