{
 "cells": [
  {
   "cell_type": "markdown",
   "metadata": {},
   "source": [
    "# Итераторы и генераторы"
   ]
  },
  {
   "cell_type": "markdown",
   "metadata": {},
   "source": [
    "### Итератор - объект-перечислитель, который \"знает\" о следующем элементе. "
   ]
  },
  {
   "cell_type": "markdown",
   "metadata": {},
   "source": [
    "#### Допустим, есть список x = [1, 2]. У списка есть итератор, который при первом запросе ( функия next() ) вернет 1, при втором - 2, а при третьем запросе вызовет ошибку StopIteration."
   ]
  },
  {
   "cell_type": "code",
   "execution_count": 2,
   "metadata": {
    "collapsed": false
   },
   "outputs": [
    {
     "name": "stdout",
     "output_type": "stream",
     "text": [
      "1\n",
      "2\n"
     ]
    },
    {
     "ename": "StopIteration",
     "evalue": "",
     "output_type": "error",
     "traceback": [
      "\u001b[1;31m---------------------------------------------------------------------------\u001b[0m",
      "\u001b[1;31mStopIteration\u001b[0m                             Traceback (most recent call last)",
      "\u001b[1;32m<ipython-input-2-42db2121594f>\u001b[0m in \u001b[0;36m<module>\u001b[1;34m()\u001b[0m\n\u001b[0;32m      3\u001b[0m \u001b[0mprint\u001b[0m\u001b[1;33m(\u001b[0m\u001b[0mnext\u001b[0m\u001b[1;33m(\u001b[0m\u001b[0miterator\u001b[0m\u001b[1;33m)\u001b[0m\u001b[1;33m)\u001b[0m\u001b[1;33m\u001b[0m\u001b[0m\n\u001b[0;32m      4\u001b[0m \u001b[0mprint\u001b[0m\u001b[1;33m(\u001b[0m\u001b[0mnext\u001b[0m\u001b[1;33m(\u001b[0m\u001b[0miterator\u001b[0m\u001b[1;33m)\u001b[0m\u001b[1;33m)\u001b[0m\u001b[1;33m\u001b[0m\u001b[0m\n\u001b[1;32m----> 5\u001b[1;33m \u001b[0mprint\u001b[0m\u001b[1;33m(\u001b[0m\u001b[0mnext\u001b[0m\u001b[1;33m(\u001b[0m\u001b[0miterator\u001b[0m\u001b[1;33m)\u001b[0m\u001b[1;33m)\u001b[0m\u001b[1;33m\u001b[0m\u001b[0m\n\u001b[0m",
      "\u001b[1;31mStopIteration\u001b[0m: "
     ]
    }
   ],
   "source": [
    "x = [1, 2]\n",
    "iterator = iter(x)\n",
    "print(next(iterator))\n",
    "print(next(iterator))\n",
    "print(next(iterator))"
   ]
  },
  {
   "cell_type": "markdown",
   "metadata": {},
   "source": [
    "#### Как на самом деле работает цикл for:"
   ]
  },
  {
   "cell_type": "code",
   "execution_count": 5,
   "metadata": {
    "collapsed": false
   },
   "outputs": [
    {
     "name": "stdout",
     "output_type": "stream",
     "text": [
      "year_published author title \n",
      "year_published author title "
     ]
    }
   ],
   "source": [
    "# Пример со словарем\n",
    "book = {\n",
    "    'title': 'The Langoliers',\n",
    "    'author': 'Stephen King',\n",
    "    'year_published': 1990\n",
    "}\n",
    "\n",
    "# Стандартный цикл for\n",
    "for i in book:\n",
    "    print(i, end = ' ')\n",
    "\n",
    "print()\n",
    "    \n",
    "# Альтернатива циклу for\n",
    "it = iter(book)\n",
    "while True:\n",
    "    try:\n",
    "        i = next(it)\n",
    "        print(i, end = ' ')\n",
    "    except StopIteration:\n",
    "        break\n",
    "        \n",
    "# Результат работы будет идентичен для любого итерируемого множества значение (словарь, список и т.д.)"
   ]
  },
  {
   "cell_type": "markdown",
   "metadata": {},
   "source": [
    "#### Итераторы удобно использовать для перебора значений в собственном классе"
   ]
  },
  {
   "cell_type": "markdown",
   "metadata": {},
   "source": [
    "##### Для того, чтобы сделать класс итерируемым, необходимо добавить в него метод __next__"
   ]
  },
  {
   "cell_type": "code",
   "execution_count": 32,
   "metadata": {
    "collapsed": false
   },
   "outputs": [
    {
     "name": "stdout",
     "output_type": "stream",
     "text": [
      "0.6031746933791006\n",
      "0.9320624366212921\n",
      "0.3720349275674475\n"
     ]
    },
    {
     "ename": "StopIteration",
     "evalue": "",
     "output_type": "error",
     "traceback": [
      "\u001b[1;31m---------------------------------------------------------------------------\u001b[0m",
      "\u001b[1;31mStopIteration\u001b[0m                             Traceback (most recent call last)",
      "\u001b[1;32m<ipython-input-32-45ba7d7370b3>\u001b[0m in \u001b[0;36m<module>\u001b[1;34m()\u001b[0m\n\u001b[0;32m     18\u001b[0m \u001b[0mprint\u001b[0m\u001b[1;33m(\u001b[0m\u001b[0mnext\u001b[0m\u001b[1;33m(\u001b[0m\u001b[0mx\u001b[0m\u001b[1;33m)\u001b[0m\u001b[1;33m)\u001b[0m\u001b[1;33m\u001b[0m\u001b[0m\n\u001b[0;32m     19\u001b[0m \u001b[0mprint\u001b[0m\u001b[1;33m(\u001b[0m\u001b[0mnext\u001b[0m\u001b[1;33m(\u001b[0m\u001b[0mx\u001b[0m\u001b[1;33m)\u001b[0m\u001b[1;33m)\u001b[0m\u001b[1;33m\u001b[0m\u001b[0m\n\u001b[1;32m---> 20\u001b[1;33m \u001b[0mprint\u001b[0m\u001b[1;33m(\u001b[0m\u001b[0mnext\u001b[0m\u001b[1;33m(\u001b[0m\u001b[0mx\u001b[0m\u001b[1;33m)\u001b[0m\u001b[1;33m)\u001b[0m \u001b[1;31m# При попытке вывести 4-ое число, возникает ошибка StopItaration\u001b[0m\u001b[1;33m\u001b[0m\u001b[0m\n\u001b[0m",
      "\u001b[1;32m<ipython-input-32-45ba7d7370b3>\u001b[0m in \u001b[0;36m__next__\u001b[1;34m(self)\u001b[0m\n\u001b[0;32m     12\u001b[0m             \u001b[1;32mreturn\u001b[0m \u001b[0mrandom\u001b[0m\u001b[1;33m(\u001b[0m\u001b[1;33m)\u001b[0m\u001b[1;33m\u001b[0m\u001b[0m\n\u001b[0;32m     13\u001b[0m         \u001b[1;32melse\u001b[0m\u001b[1;33m:\u001b[0m\u001b[1;33m\u001b[0m\u001b[0m\n\u001b[1;32m---> 14\u001b[1;33m             \u001b[1;32mraise\u001b[0m \u001b[0mStopIteration\u001b[0m\u001b[1;33m\u001b[0m\u001b[0m\n\u001b[0m\u001b[0;32m     15\u001b[0m \u001b[1;33m\u001b[0m\u001b[0m\n\u001b[0;32m     16\u001b[0m \u001b[0mx\u001b[0m \u001b[1;33m=\u001b[0m \u001b[0mRandomIterator\u001b[0m\u001b[1;33m(\u001b[0m\u001b[1;36m3\u001b[0m\u001b[1;33m)\u001b[0m \u001b[1;31m# Создаем класс для вывода 3 случайных чисел\u001b[0m\u001b[1;33m\u001b[0m\u001b[0m\n",
      "\u001b[1;31mStopIteration\u001b[0m: "
     ]
    }
   ],
   "source": [
    "from random import random\n",
    "\n",
    "# Итератор данного класса возвращает число от 0 до 1\n",
    "class RandomIterator:\n",
    "    def __init__(self, k):\n",
    "        self.k = k # Количество чисел, которые будут выведен\n",
    "        self.i = 0 # Количество уже перечисленных чисел\n",
    "        \n",
    "    def __next__(self):\n",
    "        if self.i < self.k:\n",
    "            self.i += 1\n",
    "            return random()\n",
    "        else:\n",
    "            raise StopIteration\n",
    "        \n",
    "x = RandomIterator(3) # Создаем класс для вывода 3 случайных чисел\n",
    "print(next(x)) # next(x) ~ x.__next__(), x -- iterator\n",
    "print(next(x))\n",
    "print(next(x))\n",
    "print(next(x)) # При попытке вывести 4-ое число, возникает ошибка StopItaration"
   ]
  },
  {
   "cell_type": "markdown",
   "metadata": {},
   "source": [
    "##### Для того, чтобы пользоваться собственным интеретором в цикле for, необходимо сделать так, чтобы к нашему класса стала применима функция iter(OurClass) "
   ]
  },
  {
   "cell_type": "markdown",
   "metadata": {},
   "source": [
    "##### Для этого в классе добавляется новый метод - __iter__(self)"
   ]
  },
  {
   "cell_type": "code",
   "execution_count": 33,
   "metadata": {
    "collapsed": false
   },
   "outputs": [
    {
     "name": "stdout",
     "output_type": "stream",
     "text": [
      "0.7511639708765198\n",
      "0.6725760817590697\n",
      "0.5242811862821755\n",
      "0.13444313889360582\n",
      "0.26930906566637225\n",
      "0.8388957781049017\n",
      "0.043991401100652805\n",
      "0.7284012259893162\n",
      "0.7424071456845994\n",
      "0.3444885809651007\n"
     ]
    }
   ],
   "source": [
    "from random import random\n",
    "\n",
    "# Итератор данного класса возвращает число от 0 до 1\n",
    "class RandomIterator:\n",
    "    def __iter__(self):\n",
    "        return self\n",
    "    \n",
    "    def __init__(self, k):\n",
    "        self.k = k # Количество чисел, которые будут выведен\n",
    "        self.i = 0 # Количество уже перечисленных чисел\n",
    "        \n",
    "    def __next__(self):\n",
    "        if self.i < self.k:\n",
    "            self.i += 1\n",
    "            return random()\n",
    "        else:\n",
    "            raise StopIteration\n",
    "            \n",
    "for x in RandomIterator(10):\n",
    "    print(x)"
   ]
  },
  {
   "cell_type": "markdown",
   "metadata": {
    "collapsed": true
   },
   "source": [
    "##### Пример итератора для вовзращения пары значений"
   ]
  },
  {
   "cell_type": "code",
   "execution_count": 37,
   "metadata": {
    "collapsed": false
   },
   "outputs": [
    {
     "name": "stdout",
     "output_type": "stream",
     "text": [
      "(1, 2)\n",
      "(3, 4)\n"
     ]
    }
   ],
   "source": [
    "class DoubleElementListIterator:\n",
    "    def __init__(self, lst):\n",
    "        self.lst = lst # Сам список\n",
    "        self.i = 0 # Отсчет \n",
    "        \n",
    "    def __next__(self):\n",
    "        if self.i < len(self.lst): # если i < размера списка\n",
    "            self.i += 2 # прибавляем 2 к i\n",
    "            return self.lst[self.i - 2], self.lst[self.i - 1] # и возвращаем два значения из списка\n",
    "        else:\n",
    "            raise StopIteration\n",
    "            \n",
    "class MyList(list): # Класс MyList наследуется от класса list\n",
    "    def __iter__(self):\n",
    "        return DoubleElementListIterator(self) # Почему объект DoubleElementListIterator возвращаем два элемента ?\n",
    "    \n",
    "for pair in MyList([1, 2, 3, 4]):\n",
    "    print(pair)\n"
   ]
  },
  {
   "cell_type": "markdown",
   "metadata": {},
   "source": [
    "##### Для таких простых задач использование итераторов накладно, т.к. надо создавать классы, а это не быстро и занимает много строчек кода. Как раз для это в python есть генераторы."
   ]
  },
  {
   "cell_type": "markdown",
   "metadata": {},
   "source": [
    "### Генератор - функция, которая вместо того, чтобы возвращать какое-нибудь значение, генерирует его."
   ]
  },
  {
   "cell_type": "markdown",
   "metadata": {},
   "source": [
    "##### Для этого используется ключевое слова yield"
   ]
  },
  {
   "cell_type": "code",
   "execution_count": 6,
   "metadata": {
    "collapsed": false
   },
   "outputs": [
    {
     "name": "stdout",
     "output_type": "stream",
     "text": [
      "<class 'generator'>\n"
     ]
    }
   ],
   "source": [
    "def random_generator(k):\n",
    "    for i in range(k):\n",
    "        yield random()\n",
    "        \n",
    "gen = random_generator(3)\n",
    "print(type(gen))"
   ]
  },
  {
   "cell_type": "markdown",
   "metadata": {},
   "source": [
    "##### Работа генератора заключается в следующем: интерпретатор выполняет тело генератора до тех пор пока не встретит ключевое слово yield, после чего вернет значение. Однако, при следующем вызове генератора, интерпретатор продолжет выполнение с того места, на котором он остановился и до нового значения yield. И так далее."
   ]
  },
  {
   "cell_type": "markdown",
   "metadata": {},
   "source": [
    "##### Если после очередного вызова интерпретатор дойдет до конца генератора и не встретит ключевое слово yield, то будет вызвана ошибка StopIteration."
   ]
  },
  {
   "cell_type": "markdown",
   "metadata": {},
   "source": [
    "##### Пример"
   ]
  },
  {
   "cell_type": "code",
   "execution_count": 10,
   "metadata": {
    "collapsed": false
   },
   "outputs": [
    {
     "name": "stdout",
     "output_type": "stream",
     "text": [
      "Checkpoint 1\n",
      "1\n",
      "Checkpoint 2\n",
      "2\n",
      "Checkpoint 3\n"
     ]
    },
    {
     "ename": "StopIteration",
     "evalue": "",
     "output_type": "error",
     "traceback": [
      "\u001b[1;31m---------------------------------------------------------------------------\u001b[0m",
      "\u001b[1;31mStopIteration\u001b[0m                             Traceback (most recent call last)",
      "\u001b[1;32m<ipython-input-10-852a365cdc6b>\u001b[0m in \u001b[0;36m<module>\u001b[1;34m()\u001b[0m\n\u001b[0;32m     11\u001b[0m \u001b[0my\u001b[0m \u001b[1;33m=\u001b[0m \u001b[0mnext\u001b[0m\u001b[1;33m(\u001b[0m\u001b[0mgen\u001b[0m\u001b[1;33m)\u001b[0m\u001b[1;33m\u001b[0m\u001b[0m\n\u001b[0;32m     12\u001b[0m \u001b[0mprint\u001b[0m\u001b[1;33m(\u001b[0m\u001b[0my\u001b[0m\u001b[1;33m)\u001b[0m\u001b[1;33m\u001b[0m\u001b[0m\n\u001b[1;32m---> 13\u001b[1;33m \u001b[0mz\u001b[0m \u001b[1;33m=\u001b[0m \u001b[0mnext\u001b[0m\u001b[1;33m(\u001b[0m\u001b[0mgen\u001b[0m\u001b[1;33m)\u001b[0m\u001b[1;33m\u001b[0m\u001b[0m\n\u001b[0m",
      "\u001b[1;31mStopIteration\u001b[0m: "
     ]
    }
   ],
   "source": [
    "def simple_gen():\n",
    "    print(\"Checkpoint 1\")\n",
    "    yield 1\n",
    "    print(\"Checkpoint 2\")\n",
    "    yield 2\n",
    "    print(\"Checkpoint 3\")\n",
    "    \n",
    "gen = simple_gen()\n",
    "x = next(gen)\n",
    "print(x)\n",
    "y = next(gen)\n",
    "print(y)\n",
    "z = next(gen)\n"
   ]
  },
  {
   "cell_type": "code",
   "execution_count": 11,
   "metadata": {
    "collapsed": false
   },
   "outputs": [
    {
     "name": "stdout",
     "output_type": "stream",
     "text": [
      "Checkpoint 1\n",
      "1\n",
      "Checkpoint 2\n",
      "2\n",
      "Checkpoint 3\n"
     ]
    }
   ],
   "source": [
    "for i in simple_gen():\n",
    "    print(i)"
   ]
  },
  {
   "cell_type": "markdown",
   "metadata": {},
   "source": [
    "##### Такой подход в программировании носит название \"Концепция отложенного исполнения\""
   ]
  },
  {
   "cell_type": "markdown",
   "metadata": {},
   "source": [
    "##### Таким образом удобный генератор для k случайных чисел будет выглядеть следующим образом"
   ]
  },
  {
   "cell_type": "code",
   "execution_count": 24,
   "metadata": {
    "collapsed": false
   },
   "outputs": [
    {
     "name": "stdout",
     "output_type": "stream",
     "text": [
      "0.9459063795938274\n",
      "0.7598931795804734\n",
      "0.6949079834391128\n"
     ]
    }
   ],
   "source": [
    "from random import random\n",
    "\n",
    "def random_generator(k):\n",
    "    for i in range(k):\n",
    "        yield random()\n",
    "\n",
    "gen = random_generator(3)\n",
    "for i in gen:\n",
    "    print(i)"
   ]
  },
  {
   "cell_type": "markdown",
   "metadata": {
    "collapsed": true
   },
   "source": [
    "##### Если внутри генератора интерпретатор встретит return, то будет вызвана ошибка StopItaration, а возвращаемое значение return будет сообщением об ошибке."
   ]
  },
  {
   "cell_type": "code",
   "execution_count": 25,
   "metadata": {
    "collapsed": false
   },
   "outputs": [
    {
     "name": "stdout",
     "output_type": "stream",
     "text": [
      "Checkpoint 1\n",
      "1\n",
      "Checkpoint 2\n",
      "2\n",
      "Checkpoint 3\n"
     ]
    },
    {
     "ename": "StopIteration",
     "evalue": "No more elements",
     "output_type": "error",
     "traceback": [
      "\u001b[1;31m---------------------------------------------------------------------------\u001b[0m",
      "\u001b[1;31mStopIteration\u001b[0m                             Traceback (most recent call last)",
      "\u001b[1;32m<ipython-input-25-d5f3d7815bd5>\u001b[0m in \u001b[0;36m<module>\u001b[1;34m()\u001b[0m\n\u001b[0;32m     10\u001b[0m \u001b[0mprint\u001b[0m\u001b[1;33m(\u001b[0m\u001b[0mnext\u001b[0m\u001b[1;33m(\u001b[0m\u001b[0mgen\u001b[0m\u001b[1;33m)\u001b[0m\u001b[1;33m)\u001b[0m\u001b[1;33m\u001b[0m\u001b[0m\n\u001b[0;32m     11\u001b[0m \u001b[0mprint\u001b[0m\u001b[1;33m(\u001b[0m\u001b[0mnext\u001b[0m\u001b[1;33m(\u001b[0m\u001b[0mgen\u001b[0m\u001b[1;33m)\u001b[0m\u001b[1;33m)\u001b[0m\u001b[1;33m\u001b[0m\u001b[0m\n\u001b[1;32m---> 12\u001b[1;33m \u001b[0mprint\u001b[0m\u001b[1;33m(\u001b[0m\u001b[0mnext\u001b[0m\u001b[1;33m(\u001b[0m\u001b[0mgen\u001b[0m\u001b[1;33m)\u001b[0m\u001b[1;33m)\u001b[0m\u001b[1;33m\u001b[0m\u001b[0m\n\u001b[0m",
      "\u001b[1;31mStopIteration\u001b[0m: No more elements"
     ]
    }
   ],
   "source": [
    "def simple_gen():\n",
    "    print(\"Checkpoint 1\")\n",
    "    yield 1\n",
    "    print(\"Checkpoint 2\")\n",
    "    yield 2\n",
    "    print(\"Checkpoint 3\")\n",
    "    return 'No more elements'\n",
    "\n",
    "gen = simple_gen()\n",
    "print(next(gen))\n",
    "print(next(gen))\n",
    "print(next(gen))\n"
   ]
  },
  {
   "cell_type": "markdown",
   "metadata": {},
   "source": [
    "###### Сообщение No more elements было взято из return"
   ]
  },
  {
   "cell_type": "markdown",
   "metadata": {},
   "source": [
    "###### Задача 1"
   ]
  },
  {
   "cell_type": "code",
   "execution_count": null,
   "metadata": {
    "collapsed": true
   },
   "outputs": [],
   "source": [
    "class multifilter:\n",
    "    def judge_half(pos, neg):\n",
    "        # допускает элемент, если его допускает хотя бы половина фукнций (pos >= neg)\n",
    "        return pos >= neg\n",
    "\n",
    "    def judge_any(pos, neg):\n",
    "        # допускает элемент, если его допускает хотя бы одна функция (pos >= 1)\n",
    "        return pos >= 1\n",
    "\n",
    "    def judge_all(pos, neg):\n",
    "        # допускает элемент, если его допускают все функции (neg == 0)\n",
    "        return neg == 0\n",
    "\n",
    "    def __init__(self, iterable, *funcs, judge=judge_any):\n",
    "        # iterable - исходная последовательность\n",
    "        # funcs - допускающие функции\n",
    "        # judge - решающая функция\n",
    "        self.pos = 0;\n",
    "        self.neg = 0;\n",
    "        self.i = 0\n",
    "        self.n = len(iterable)\n",
    "        self.iterable = iterable\n",
    "        self.funcs = funcs\n",
    "        self.judge = judge\n",
    "\n",
    "    def __next__(self):\n",
    "        while True:\n",
    "            if self.i < self.n:\n",
    "                for f in self.funcs:\n",
    "                    if f(self.iterable[self.i]):\n",
    "                        self.pos += 1\n",
    "                    else:\n",
    "                        self.neg += 1\n",
    "\n",
    "                if self.judge(self.pos, self.neg):\n",
    "                    self.pos = 0\n",
    "                    self.neg = 0\n",
    "                    res = self.i\n",
    "                    self.i += 1\n",
    "                    return res\n",
    "                self.i += 1\n",
    "                self.pos = 0\n",
    "                self.neg = 0\n",
    "            else:\n",
    "                raise StopIteration\n",
    "\n",
    "    def __iter__(self):\n",
    "        # возвращает итератор по результирующей последовательности\n",
    "        return self"
   ]
  },
  {
   "cell_type": "markdown",
   "metadata": {},
   "source": [
    "##### Задача 2"
   ]
  },
  {
   "cell_type": "code",
   "execution_count": null,
   "metadata": {
    "collapsed": true
   },
   "outputs": [],
   "source": [
    "def primes():\n",
    "    prime = True\n",
    "    i = 1\n",
    "    while True:\n",
    "        i += 1\n",
    "        for j in range(2, i):\n",
    "            if i % j == 0:\n",
    "                prime = False\n",
    "        if prime:\n",
    "            yield i\n",
    "        else:\n",
    "            prime = True"
   ]
  }
 ],
 "metadata": {
  "kernelspec": {
   "display_name": "Python 3",
   "language": "python",
   "name": "python3"
  },
  "language_info": {
   "codemirror_mode": {
    "name": "ipython",
    "version": 3
   },
   "file_extension": ".py",
   "mimetype": "text/x-python",
   "name": "python",
   "nbconvert_exporter": "python",
   "pygments_lexer": "ipython3",
   "version": "3.5.1"
  }
 },
 "nbformat": 4,
 "nbformat_minor": 0
}
