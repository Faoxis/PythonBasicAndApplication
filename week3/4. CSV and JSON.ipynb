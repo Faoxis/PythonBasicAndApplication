{
 "cells": [
  {
   "cell_type": "markdown",
   "metadata": {},
   "source": [
    "# Распространенные форматы текстовых файлов: CSV, JSON"
   ]
  },
  {
   "cell_type": "markdown",
   "metadata": {},
   "source": [
    "## CSV(comma separated values) - табличный формат хранения данных"
   ]
  },
  {
   "cell_type": "markdown",
   "metadata": {},
   "source": [
    "### Чтение данных из файла"
   ]
  },
  {
   "cell_type": "code",
   "execution_count": 5,
   "metadata": {
    "collapsed": false
   },
   "outputs": [
    {
     "name": "stdout",
     "output_type": "stream",
     "text": [
      "['first name', 'last name', 'module1', 'module2', 'module3', 'description']\n",
      "['student', 'best', '100', '100', '100', 'Excellent score']\n",
      "['student', 'good', '90', '90,2', '100', 'Good score\\nbut could do better']\n"
     ]
    }
   ],
   "source": [
    "import csv\n",
    "\n",
    "with open(\"D:\\\\pytest\\example.csv\") as f:\n",
    "    reader = csv.reader(f, delimiter=\",\")\n",
    "    for row in reader:\n",
    "        print(row)"
   ]
  },
  {
   "cell_type": "markdown",
   "metadata": {},
   "source": [
    "### Запись данных в файл"
   ]
  },
  {
   "cell_type": "code",
   "execution_count": 1,
   "metadata": {
    "collapsed": true
   },
   "outputs": [],
   "source": [
    "import csv\n",
    "\n",
    "students = [\n",
    "    [\"Greg\", \"Dean\", 70, 80, 90, \"Good job, Greg\"],\n",
    "    [\"Wirt\", \"Wood\", 80, 80.2, 80, \"Nicely done\"]\n",
    "]\n",
    "\n",
    "with open(\"D:\\\\pytest\\example.csv\", \"a\") as f:\n",
    "    writer = csv.writer(f)\n",
    "    for student in students:\n",
    "        writer.writerow(student)"
   ]
  },
  {
   "cell_type": "markdown",
   "metadata": {},
   "source": [
    "##### Для того, чтобы сказать writer'у о том, чтобы все значения были помещены в кавычки используется параметр конструктора quoting"
   ]
  },
  {
   "cell_type": "code",
   "execution_count": null,
   "metadata": {
    "collapsed": true
   },
   "outputs": [],
   "source": [
    "import csv\n",
    "\n",
    "students = [\n",
    "    [\"Greg\", \"Dean\", 70, 80, 90, \"Good job, Greg\"],\n",
    "    [\"Wirt\", \"Wood\", 80, 80.2, 80, \"Nicely done\"]\n",
    "]\n",
    "\n",
    "with open(\"D:\\\\pytest\\example.csv\", \"a\") as f:\n",
    "    writer = csv.writer(f, quoting=csv.QUOTE_ALL) # или QUOTE_MINIMAL, QUOTE_NONE, QUOTE_NONNUMERIC\n",
    "    for student in students:\n",
    "        writer.writerow(student)"
   ]
  },
  {
   "cell_type": "markdown",
   "metadata": {},
   "source": [
    "#### Задача 1"
   ]
  },
  {
   "cell_type": "markdown",
   "metadata": {},
   "source": [
    "Вам дана частичная выборка из датасета зафиксированных преступлений, совершенных в городе Чикаго с 2001 года по настоящее время.\n",
    "\n",
    "Одним из атрибутов преступления является его тип – Primary Type.\n",
    "\n",
    "Вам необходимо узнать тип преступления, которое было зафиксировано максимальное число раз в 2015 году.\n",
    "\n",
    "Файл с данными:\n",
    "Crimes.csv"
   ]
  },
  {
   "cell_type": "code",
   "execution_count": 21,
   "metadata": {
    "collapsed": false
   },
   "outputs": [
    {
     "name": "stdout",
     "output_type": "stream",
     "text": [
      "THEFT\n"
     ]
    }
   ],
   "source": [
    "import csv\n",
    "\n",
    "dict_pr_type = dict()\n",
    "is_header = True\n",
    "\n",
    "with open(\"D:\\\\pytest\\Crimes.csv\") as f:\n",
    "    reader = csv.reader(f)\n",
    "    for row in reader:\n",
    "        if is_header:\n",
    "            is_header = False\n",
    "        else:\n",
    "            if row[5] in dict_pr_type:\n",
    "                dict_pr_type[row[5]] += 1\n",
    "            else:\n",
    "                dict_pr_type[row[5]] = 1\n",
    "\n",
    "sorted_types = sorted(dict_pr_type.items(), key=lambda x: x[1], reverse=True) \n",
    "\n",
    "print(sorted_types[0][0])"
   ]
  },
  {
   "cell_type": "markdown",
   "metadata": {},
   "source": [
    "## JSON - изначальной использовался для представления объектов в JavaScript, сейчас используется повсеместно"
   ]
  },
  {
   "cell_type": "markdown",
   "metadata": {},
   "source": [
    "##### Некоторые особенности Json"
   ]
  },
  {
   "cell_type": "markdown",
   "metadata": {},
   "source": [
    "1. Ключем может быть только строка"
   ]
  },
  {
   "cell_type": "markdown",
   "metadata": {},
   "source": [
    "2. Значения true и false с маленькой буквы"
   ]
  },
  {
   "cell_type": "markdown",
   "metadata": {},
   "source": [
    "3. Значение null из json соответствует значению None из Python"
   ]
  },
  {
   "cell_type": "markdown",
   "metadata": {},
   "source": [
    "4. Строки могут быть написаны только в двойных кавычках"
   ]
  },
  {
   "cell_type": "markdown",
   "metadata": {},
   "source": [
    "##### Для работы с форматом json в Python есть одноименная библиотека"
   ]
  },
  {
   "cell_type": "markdown",
   "metadata": {},
   "source": [
    "##### Для преобразования данных в формат json используется функция dumps со следующими аргументами:"
   ]
  },
  {
   "cell_type": "markdown",
   "metadata": {},
   "source": [
    "Первый аргумент - данные для добавления"
   ]
  },
  {
   "cell_type": "markdown",
   "metadata": {},
   "source": [
    "indent - количество отступов в списках и словарях"
   ]
  },
  {
   "cell_type": "markdown",
   "metadata": {},
   "source": [
    "sort_keys - сортировка ключей каждого словаря, который попадается в каждом объекте"
   ]
  },
  {
   "cell_type": "code",
   "execution_count": 22,
   "metadata": {
    "collapsed": false
   },
   "outputs": [
    {
     "name": "stdout",
     "output_type": "stream",
     "text": [
      "[\n",
      "    {\n",
      "        \"certificate\": true,\n",
      "        \"description\": \"Good job, Greg\",\n",
      "        \"first_name\": \"Greg\",\n",
      "        \"last_name\": \"Dean\",\n",
      "        \"scores\": [\n",
      "            70,\n",
      "            80,\n",
      "            90\n",
      "        ]\n",
      "    },\n",
      "    {\n",
      "        \"certificate\": true,\n",
      "        \"description\": \"Nicely Done\",\n",
      "        \"first_name\": \"Wirt\",\n",
      "        \"last_name\": \"Wood\",\n",
      "        \"scores\": [\n",
      "            80,\n",
      "            80.2,\n",
      "            80\n",
      "        ]\n",
      "    }\n",
      "]\n"
     ]
    }
   ],
   "source": [
    "import json\n",
    "student1 = {\n",
    "    'first_name': 'Greg',\n",
    "    'last_name': 'Dean',\n",
    "    'scores': [70, 80, 90],\n",
    "    'description': 'Good job, Greg',\n",
    "    'certificate': True\n",
    "}\n",
    "\n",
    "student2 = {\n",
    "    'first_name': 'Wirt',\n",
    "    'last_name': 'Wood',\n",
    "    'scores': [80, 80.2, 80],\n",
    "    'description': 'Nicely Done',\n",
    "    'certificate': True\n",
    "}\n",
    "\n",
    "data = [student1, student2]\n",
    "print(json.dumps(data, indent = 4, sort_keys=True))"
   ]
  },
  {
   "cell_type": "markdown",
   "metadata": {},
   "source": [
    "##### Для записи информации в формате json в файл используется функция dump"
   ]
  },
  {
   "cell_type": "code",
   "execution_count": 24,
   "metadata": {
    "collapsed": true
   },
   "outputs": [],
   "source": [
    "import json\n",
    "student1 = {\n",
    "    'first_name': 'Greg',\n",
    "    'last_name': 'Dean',\n",
    "    'scores': [70, 80, 90],\n",
    "    'description': 'Good job, Greg',\n",
    "    'certificate': True\n",
    "}\n",
    "\n",
    "student2 = {\n",
    "    'first_name': 'Wirt',\n",
    "    'last_name': 'Wood',\n",
    "    'scores': [80, 80.2, 80],\n",
    "    'description': 'Nicely Done',\n",
    "    'certificate': True\n",
    "}\n",
    "\n",
    "data = [student1, student2]\n",
    "with open(\"D:\\\\pytest\\students.json\", \"w\") as f:\n",
    "    json.dump(data, f, indent=4, sort_keys=True)"
   ]
  },
  {
   "cell_type": "markdown",
   "metadata": {},
   "source": [
    "#### Для получения объекта Python, соответствующим формату json используется функция loads"
   ]
  },
  {
   "cell_type": "code",
   "execution_count": 27,
   "metadata": {
    "collapsed": false
   },
   "outputs": [
    {
     "name": "stdout",
     "output_type": "stream",
     "text": [
      "240\n"
     ]
    }
   ],
   "source": [
    "import json\n",
    "student1 = {\n",
    "    'first_name': 'Greg',\n",
    "    'last_name': 'Dean',\n",
    "    'scores': [70, 80, 90],\n",
    "    'description': 'Good job, Greg',\n",
    "    'certificate': True\n",
    "}\n",
    "\n",
    "student2 = {\n",
    "    'first_name': 'Wirt',\n",
    "    'last_name': 'Wood',\n",
    "    'scores': [80, 80.2, 80],\n",
    "    'description': 'Nicely Done',\n",
    "    'certificate': True\n",
    "}\n",
    "\n",
    "data = [student1, student2]\n",
    "data_json = json.dumps(data, indent=4, sort_keys=True)\n",
    "data_again = json.loads(data_json)\n",
    "print(sum(data_again[0][\"scores\"]))"
   ]
  },
  {
   "cell_type": "markdown",
   "metadata": {},
   "source": [
    "#### Для чтения данных из файла в формате json используется функция load"
   ]
  },
  {
   "cell_type": "code",
   "execution_count": 30,
   "metadata": {
    "collapsed": false
   },
   "outputs": [
    {
     "name": "stdout",
     "output_type": "stream",
     "text": [
      "240.2\n"
     ]
    }
   ],
   "source": [
    "with open(\"D:\\\\pytest\\students.json\", \"r\") as f:\n",
    "    data_again = json.load(f)\n",
    "    print(sum(data_again[1][\"scores\"]))"
   ]
  },
  {
   "cell_type": "markdown",
   "metadata": {},
   "source": [
    "#### Задача 2"
   ]
  },
  {
   "cell_type": "markdown",
   "metadata": {},
   "source": [
    "Вам дано описание наследования классов в формате JSON. \n",
    "Описание представляет из себя массив JSON-объектов, которые соответствуют классам. У каждого JSON-объекта есть поле name, которое содержит имя класса, и поле parents, которое содержит список имен прямых предков.\n",
    "\n",
    "Пример:\n",
    "[{\"name\": \"A\", \"parents\": []}, {\"name\": \"B\", \"parents\": [\"A\", \"C\"]}, {\"name\": \"C\", \"parents\": [\"A\"]}]\n",
    "\n",
    "Эквивалент на Python:\n",
    "\n",
    "class A:\n",
    "    pass\n",
    "\n",
    "class B(A, C):\n",
    "    pass\n",
    "\n",
    "class C(A):\n",
    "    pass\n",
    "\n",
    "Гарантируется, что никакой класс не наследуется от себя явно или косвенно, и что никакой класс не наследуется явно от одного класса более одного раза.\n",
    "\n",
    "Для каждого класса вычислите предком скольких классов он является и выведите эту информацию в следующем формате.\n",
    "\n",
    "<имя класса> : <количество потомков>\n",
    "\n",
    "Выводить классы следует в лексикографическом порядке."
   ]
  },
  {
   "cell_type": "code",
   "execution_count": null,
   "metadata": {
    "collapsed": true
   },
   "outputs": [],
   "source": []
  }
 ],
 "metadata": {
  "kernelspec": {
   "display_name": "Python 3",
   "language": "python",
   "name": "python3"
  },
  "language_info": {
   "codemirror_mode": {
    "name": "ipython",
    "version": 3
   },
   "file_extension": ".py",
   "mimetype": "text/x-python",
   "name": "python",
   "nbconvert_exporter": "python",
   "pygments_lexer": "ipython3",
   "version": "3.5.0"
  }
 },
 "nbformat": 4,
 "nbformat_minor": 0
}
