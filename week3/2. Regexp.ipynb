{
 "cells": [
  {
   "cell_type": "markdown",
   "metadata": {},
   "source": [
    "# Регулярные выражения"
   ]
  },
  {
   "cell_type": "markdown",
   "metadata": {},
   "source": [
    "В Python регулярные выражения представляют собой специальную библиотеку. Для использования регулярных выражений в Python обычно пишется специальный шаблон, а потом уже работаем с ним."
   ]
  },
  {
   "cell_type": "markdown",
   "metadata": {},
   "source": [
    "Т.к. многие регулярные выражения используют обладный слеш, то для написания строки с ними следует использовать \"сырые\" строки "
   ]
  },
  {
   "cell_type": "code",
   "execution_count": 1,
   "metadata": {
    "collapsed": false
   },
   "outputs": [
    {
     "name": "stdout",
     "output_type": "stream",
     "text": [
      "Hello\\nWorld\n"
     ]
    }
   ],
   "source": [
    "s = r\"Hello\\nWorld\" #row\n",
    "print(s) # сырая строка выводится как есть, не учитывая специальные символы типа \\n"
   ]
  },
  {
   "cell_type": "markdown",
   "metadata": {},
   "source": [
    "re - библиотека для работы с регулярными выражениями"
   ]
  },
  {
   "cell_type": "code",
   "execution_count": 2,
   "metadata": {
    "collapsed": false
   },
   "outputs": [
    {
     "name": "stdout",
     "output_type": "stream",
     "text": [
      "<function match at 0x7f90849552f0>\n",
      "<function search at 0x7f9084970378>\n",
      "<function findall at 0x7f9084970598>\n",
      "<function sub at 0x7f9084970400>\n"
     ]
    }
   ],
   "source": [
    "import re\n",
    "\n",
    "# Основные функции для работы с регулярками\n",
    "print(re.match)\n",
    "print(re.search)\n",
    "print(re.findall)\n",
    "print(re.sub)"
   ]
  },
  {
   "cell_type": "markdown",
   "metadata": {},
   "source": [
    "#### Функция match берет шаблон и строку и проверяет подходит ли начало данной строки под данный шаблон"
   ]
  },
  {
   "cell_type": "code",
   "execution_count": 12,
   "metadata": {
    "collapsed": false
   },
   "outputs": [
    {
     "name": "stdout",
     "output_type": "stream",
     "text": [
      "<_sre.SRE_Match object; span=(0, 3), match='abc'>\n"
     ]
    }
   ],
   "source": [
    "import re\n",
    "\n",
    "pattern = r\"abc\"\n",
    "string = \"abcdasdasd\"\n",
    "match_object = re.match(pattern, string)\n",
    "print(match_object)"
   ]
  },
  {
   "cell_type": "markdown",
   "metadata": {},
   "source": [
    "Функция match пробегает всю строку слева направо до тех пор пока строка подходит под регулярное выражение. А как только такая подстрока найдется, то она сразу вернутся в объект типа Match."
   ]
  },
  {
   "cell_type": "markdown",
   "metadata": {},
   "source": [
    "От сюда следует, что если нужная подстрока не встрелась в тексте, то функция ничего не вернет, а точнее вернется None."
   ]
  },
  {
   "cell_type": "markdown",
   "metadata": {},
   "source": [
    "#### Функция serch берет строку и находит первую подстроку, которая совпадает с шаблоном"
   ]
  },
  {
   "cell_type": "code",
   "execution_count": 16,
   "metadata": {
    "collapsed": false
   },
   "outputs": [
    {
     "name": "stdout",
     "output_type": "stream",
     "text": [
      "<_sre.SRE_Match object; span=(1, 4), match='abc'>\n"
     ]
    }
   ],
   "source": [
    "import re\n",
    "\n",
    "pattern = r\"abc\"\n",
    "string = \"babc\"\n",
    "match_object = re.search(pattern, string)\n",
    "print(match_object)"
   ]
  },
  {
   "cell_type": "markdown",
   "metadata": {},
   "source": [
    "Как и в случае функции match, функция search вернет None если искомая подстрока не встретилась."
   ]
  },
  {
   "cell_type": "markdown",
   "metadata": {},
   "source": [
    "#### Функция findall находит все подстроки строки, которые совпадают с шаблоном"
   ]
  },
  {
   "cell_type": "markdown",
   "metadata": {},
   "source": [
    "#### Функция sub позволяет заменить все подстроки, которые совпадают с шаблоном на что-то другое"
   ]
  },
  {
   "cell_type": "markdown",
   "metadata": {},
   "source": [
    "### Метасимволы"
   ]
  },
  {
   "cell_type": "markdown",
   "metadata": {},
   "source": [
    "#### [] - множество всех подходящих символов"
   ]
  },
  {
   "cell_type": "code",
   "execution_count": 24,
   "metadata": {
    "collapsed": false
   },
   "outputs": [
    {
     "name": "stdout",
     "output_type": "stream",
     "text": [
      "<_sre.SRE_Match object; span=(0, 3), match='acc'>\n",
      "['abc', 'acc', 'aac']\n",
      "abc, abc, abc\n"
     ]
    }
   ],
   "source": [
    "import re\n",
    "\n",
    "# [] -- можно указать множество подходящих символов\n",
    "\n",
    "pattern = r\"a[abc]c\"\n",
    "\n",
    "# Возвращает объект в случае успешного поиска\n",
    "string = \"accfjfyf\"\n",
    "match_object = re.match(pattern, string)\n",
    "print(match_object)\n",
    "\n",
    "# Возращает список значений \n",
    "string = \"abc, acc, aac\"\n",
    "all_inclusions = re.findall(pattern, string)\n",
    "print(all_inclusions)\n",
    "\n",
    "# Возвращает строку с заменой всех найденых подстрок дргой подстрокой\n",
    "fixed_typos = re.sub(pattern, \"abc\", string) # Замена в строке string все подсрок поподающих под шаблон pattern \n",
    "                                             # на подстроку abc\n",
    "print(fixed_typos)"
   ]
  },
  {
   "cell_type": "markdown",
   "metadata": {},
   "source": [
    "#### Некоторые  сокращенные обозначения для множества подъодящих символов"
   ]
  },
  {
   "cell_type": "markdown",
   "metadata": {},
   "source": [
    "\\d ~ [0-9] -- цифры"
   ]
  },
  {
   "cell_type": "markdown",
   "metadata": {},
   "source": [
    "\\D ~ [^0-9] -- не цифры"
   ]
  },
  {
   "cell_type": "markdown",
   "metadata": {},
   "source": [
    "\\s ~ [ \\t\\n\\r\\f\\v] -- пробельные символы"
   ]
  },
  {
   "cell_type": "markdown",
   "metadata": {},
   "source": [
    "\\S ~ [^ \\t\\n\\r\\f\\v]"
   ]
  },
  {
   "cell_type": "markdown",
   "metadata": {},
   "source": [
    "\\w ~ [a-zA-Z0-9_] -- буквы + цифры + _"
   ]
  },
  {
   "cell_type": "markdown",
   "metadata": {},
   "source": [
    "\\W ~ [^a-zA-Z0-9_]"
   ]
  },
  {
   "cell_type": "markdown",
   "metadata": {},
   "source": [
    "#### . -- любой символ, кроме переноса строки"
   ]
  },
  {
   "cell_type": "markdown",
   "metadata": {},
   "source": [
    "#### * -- любое количество символов (в том числе 0)"
   ]
  },
  {
   "cell_type": "code",
   "execution_count": 25,
   "metadata": {
    "collapsed": false
   },
   "outputs": [
    {
     "name": "stdout",
     "output_type": "stream",
     "text": [
      "['aa', 'aba', 'abba']\n"
     ]
    }
   ],
   "source": [
    "import re\n",
    "\n",
    "pattern = r\"ab*a\"\n",
    "string = \"aa, aba, abba\"\n",
    "all_inclusions = re.findall(pattern, string)\n",
    "print(all_inclusions)"
   ]
  },
  {
   "cell_type": "markdown",
   "metadata": {},
   "source": [
    "#### + -- положительно число вхождений символа (> 0)"
   ]
  },
  {
   "cell_type": "code",
   "execution_count": 26,
   "metadata": {
    "collapsed": false
   },
   "outputs": [
    {
     "name": "stdout",
     "output_type": "stream",
     "text": [
      "['aba', 'abba']\n"
     ]
    }
   ],
   "source": [
    "import re\n",
    "\n",
    "pattern = r\"ab+a\"\n",
    "string = \"aa, aba, abba\"\n",
    "all_inclusions = re.findall(pattern, string)\n",
    "print(all_inclusions)"
   ]
  },
  {
   "cell_type": "markdown",
   "metadata": {},
   "source": [
    "#### ? -- ноль или одно вхождение символа"
   ]
  },
  {
   "cell_type": "code",
   "execution_count": 27,
   "metadata": {
    "collapsed": false
   },
   "outputs": [
    {
     "name": "stdout",
     "output_type": "stream",
     "text": [
      "['aa', 'aba']\n"
     ]
    }
   ],
   "source": [
    "import re\n",
    "\n",
    "pattern = r\"ab?a\"\n",
    "string = \"aa, aba, abba\"\n",
    "all_inclusions = re.findall(pattern, string)\n",
    "print(all_inclusions)"
   ]
  },
  {
   "cell_type": "markdown",
   "metadata": {},
   "source": [
    "#### {n} -- n вхождений символа"
   ]
  },
  {
   "cell_type": "code",
   "execution_count": 28,
   "metadata": {
    "collapsed": false
   },
   "outputs": [
    {
     "name": "stdout",
     "output_type": "stream",
     "text": [
      "['abbba']\n"
     ]
    }
   ],
   "source": [
    "import re\n",
    "\n",
    "pattern = r\"ab{3}a\"\n",
    "string = \"aa, aba, abba, abbba, abbbba\"\n",
    "all_inclusions = re.findall(pattern, string)\n",
    "print(all_inclusions)"
   ]
  },
  {
   "cell_type": "markdown",
   "metadata": {},
   "source": [
    "#### {n, m} -- от n до m вхождений сивола"
   ]
  },
  {
   "cell_type": "code",
   "execution_count": 29,
   "metadata": {
    "collapsed": false
   },
   "outputs": [
    {
     "name": "stdout",
     "output_type": "stream",
     "text": [
      "['abba', 'abbba', 'abbbba']\n"
     ]
    }
   ],
   "source": [
    "import re\n",
    "\n",
    "pattern = r\"ab{2,4}a\"\n",
    "string = \"aa, aba, abba, abbba, abbbba\"\n",
    "all_inclusions = re.findall(pattern, string)\n",
    "print(all_inclusions)"
   ]
  },
  {
   "cell_type": "markdown",
   "metadata": {},
   "source": [
    "#### По умолчанию символы повтора (вроде * или +) являются \"жадными.\" Это значит, что они пытаюсь вообрать в себя как можно больше символов."
   ]
  },
  {
   "cell_type": "code",
   "execution_count": 31,
   "metadata": {
    "collapsed": false
   },
   "outputs": [
    {
     "name": "stdout",
     "output_type": "stream",
     "text": [
      "<_sre.SRE_Match object; span=(0, 6), match='abaaba'>\n",
      "['abaaba']\n"
     ]
    }
   ],
   "source": [
    "import re\n",
    "\n",
    "pattern = r'a[ab]+a'\n",
    "string = 'abaaba'\n",
    "print(re.match(pattern, string)) # Функция match \"заберет\" всю строку целиком, \n",
    "                                # не смотря на более короткие варианты ответа\n",
    "print(re.findall(pattern, string))"
   ]
  },
  {
   "cell_type": "markdown",
   "metadata": {},
   "source": [
    "#### Для того, чтобы символы постора перестали быть \"жадными\" и стали ориентироваться на минимальное количество символов, необходимо поставить знак ? после метасимвола."
   ]
  },
  {
   "cell_type": "code",
   "execution_count": 33,
   "metadata": {
    "collapsed": false
   },
   "outputs": [
    {
     "name": "stdout",
     "output_type": "stream",
     "text": [
      "<_sre.SRE_Match object; span=(0, 3), match='aba'>\n",
      "['aba', 'aba']\n"
     ]
    }
   ],
   "source": [
    "import re \n",
    "\n",
    "pattern = r\"a[ab]+?a\"\n",
    "string = \"abaaba\"\n",
    "print(re.match(pattern, string))\n",
    "print(re.findall(pattern, string))"
   ]
  },
  {
   "cell_type": "markdown",
   "metadata": {},
   "source": [
    "#### Регулярные выражения можно группировать с помощью круглых скобок"
   ]
  },
  {
   "cell_type": "markdown",
   "metadata": {},
   "source": [
    "#### Внутри скобок часто бывает удобно указать логическое \"или\" с помощью символа |"
   ]
  },
  {
   "cell_type": "code",
   "execution_count": 40,
   "metadata": {
    "collapsed": false
   },
   "outputs": [
    {
     "name": "stdout",
     "output_type": "stream",
     "text": [
      "<_sre.SRE_Match object; span=(0, 12), match='testtesttext'>\n"
     ]
    }
   ],
   "source": [
    "import re\n",
    "\n",
    "pattern = r\"(test|text)*\"\n",
    "string = \"testtesttext\"\n",
    "print(re.match(pattern, string))"
   ]
  },
  {
   "cell_type": "markdown",
   "metadata": {},
   "source": [
    "##### Метосимвол или ( | ) обладает наименьшем приоритетом в регулярных выражениях"
   ]
  },
  {
   "cell_type": "code",
   "execution_count": 42,
   "metadata": {
    "collapsed": false
   },
   "outputs": [
    {
     "name": "stdout",
     "output_type": "stream",
     "text": [
      "<_sre.SRE_Match object; span=(0, 8), match='testtext'>\n",
      "('testtext', None, 'text')\n"
     ]
    }
   ],
   "source": [
    "import re\n",
    "\n",
    "pattern = r\"((abc)|(test|text)*)\"\n",
    "string = \"testtext\"\n",
    "match = re.match(pattern, string)\n",
    "print(match)\n",
    "print(match.groups()) # совпадения в groups() перечисленны в том же порядке, что и открывающиеся скобки"
   ]
  },
  {
   "cell_type": "markdown",
   "metadata": {},
   "source": [
    "###### Можно явно указать группу, которую мы хотим проверить на совпадение"
   ]
  },
  {
   "cell_type": "code",
   "execution_count": 45,
   "metadata": {
    "collapsed": false
   },
   "outputs": [
    {
     "name": "stdout",
     "output_type": "stream",
     "text": [
      "<_sre.SRE_Match object; span=(0, 9), match='Hello abc'>\n",
      "Hello abc\n",
      "abc\n"
     ]
    }
   ],
   "source": [
    "import re\n",
    "\n",
    "pattern = r\"Hello (abc|test)\"\n",
    "string = \"Hello abc\"\n",
    "match = re.match(pattern, string)\n",
    "print(match)\n",
    "print(match.group(0))\n",
    "print(match.group(1))"
   ]
  },
  {
   "cell_type": "markdown",
   "metadata": {},
   "source": [
    "#### Можно использовать результат группировки прямо внутри регулярного выражения, для этого используется метосимвол обращения к группе \\n, где n - номер группы."
   ]
  },
  {
   "cell_type": "code",
   "execution_count": 46,
   "metadata": {
    "collapsed": false
   },
   "outputs": [
    {
     "name": "stdout",
     "output_type": "stream",
     "text": [
      "<_sre.SRE_Match object; span=(0, 9), match='test-test'>\n"
     ]
    }
   ],
   "source": [
    "import re\n",
    "\n",
    "pattern = r\"(\\w+)-\\1\" # метосимвол \\1 является обращением к первой группе \n",
    "string = \"test-test\"\n",
    "match = re.match(pattern, string)\n",
    "print(match)"
   ]
  },
  {
   "cell_type": "markdown",
   "metadata": {},
   "source": [
    "#### Можно даже переиспользовать эту группу, в том числе в методе sub"
   ]
  },
  {
   "cell_type": "code",
   "execution_count": 48,
   "metadata": {
    "collapsed": false
   },
   "outputs": [
    {
     "name": "stdout",
     "output_type": "stream",
     "text": [
      "test chow\n"
     ]
    }
   ],
   "source": [
    "import re\n",
    "\n",
    "pattern = r\"(\\w+)-\\1\" # Регулярное выражения для всех одинаковых слов, соединенных тире\n",
    "string = \"test-test chow-chow\" # Тут у нас два раза встречается такое безобразие\n",
    "duplicates = re.sub(pattern, r\"\\1\", string) # Заменяем все одинаковые слова с тире на одно слово\n",
    "print(duplicates)"
   ]
  },
  {
   "cell_type": "markdown",
   "metadata": {},
   "source": [
    "#### При работе с группами надо быть осторожным с функцией findall, т.к. если раньше она возвращала целиком подстроку, которая подходила под шаблон, теперь она будет возвращать кортеж групп."
   ]
  },
  {
   "cell_type": "markdown",
   "metadata": {},
   "source": [
    "##### Пример, который демонтрирует работу findall с одногой группой. В этом случае функция возвращет список совпадений"
   ]
  },
  {
   "cell_type": "code",
   "execution_count": 49,
   "metadata": {
    "collapsed": false
   },
   "outputs": [
    {
     "name": "stdout",
     "output_type": "stream",
     "text": [
      "['test', 'chow']\n"
     ]
    }
   ],
   "source": [
    "import re\n",
    "\n",
    "pattern = r\"(\\w+)-\\1\"\n",
    "string = \"test-test chow-chow\"\n",
    "duplicates = re.findall(pattern, string)\n",
    "print(duplicates)"
   ]
  },
  {
   "cell_type": "markdown",
   "metadata": {},
   "source": [
    "##### Однако, в случае, если мы работаем с несколькими группами функция findall возвращает список картежей"
   ]
  },
  {
   "cell_type": "code",
   "execution_count": 53,
   "metadata": {
    "collapsed": false
   },
   "outputs": [
    {
     "name": "stdout",
     "output_type": "stream",
     "text": [
      "[('test-test', 'test'), ('chow-chow', 'chow')]\n"
     ]
    }
   ],
   "source": [
    "import re\n",
    "\n",
    "pattern = r\"((\\w+)-\\2)\"\n",
    "strind = \"test=test chow-chow\"\n",
    "duplicates = re.findall(pattern, string)\n",
    "print(duplicates)"
   ]
  },
  {
   "cell_type": "markdown",
   "metadata": {},
   "source": [
    "## Так же, вместе с регулярными выражениями используются специальные флаги для того, чтобы определенить парметры поиска"
   ]
  },
  {
   "cell_type": "markdown",
   "metadata": {},
   "source": [
    "### Для того, чтобы включить игнорирование регистров используется флаг IGNORECASE"
   ]
  },
  {
   "cell_type": "code",
   "execution_count": 1,
   "metadata": {
    "collapsed": false
   },
   "outputs": [
    {
     "name": "stdout",
     "output_type": "stream",
     "text": [
      "<_sre.SRE_Match object; span=(0, 4), match='TEXT'>\n"
     ]
    }
   ],
   "source": [
    "import re\n",
    "\n",
    "print(re.match(r\"text\", \"TEXT\", re.IGNORECASE))\n"
   ]
  },
  {
   "cell_type": "markdown",
   "metadata": {},
   "source": [
    "### Для получения инфомации о регулярном выражении используется флаг DEBUG"
   ]
  },
  {
   "cell_type": "markdown",
   "metadata": {},
   "source": [
    "Для того, чтобы выставить сразу несколько флагов используется логическое или"
   ]
  },
  {
   "cell_type": "code",
   "execution_count": 5,
   "metadata": {
    "collapsed": false
   },
   "outputs": [
    {
     "name": "stdout",
     "output_type": "stream",
     "text": [
      "MAX_REPEAT 0 MAXREPEAT\n",
      "  SUBPATTERN 1\n",
      "    LITERAL 116\n",
      "    LITERAL 101\n",
      "LITERAL 120\n",
      "LITERAL 116\n",
      "<_sre.SRE_Match object; span=(0, 4), match='TEXT'>\n"
     ]
    }
   ],
   "source": [
    "import re\n",
    "print(re.match(r\"(te)*xt\", \"TEXT\", re.IGNORECASE | re.DEBUG))"
   ]
  },
  {
   "cell_type": "markdown",
   "metadata": {},
   "source": [
    "## Задачи"
   ]
  },
  {
   "cell_type": "markdown",
   "metadata": {},
   "source": [
    "### Задача 1"
   ]
  },
  {
   "cell_type": "markdown",
   "metadata": {},
   "source": [
    "Вам дана последовательность строк.\n",
    "Выведите строки, содержащие \"cat\" в качестве подстроки хотя бы два раза."
   ]
  },
  {
   "cell_type": "code",
   "execution_count": 6,
   "metadata": {
    "collapsed": true
   },
   "outputs": [],
   "source": [
    "import re\n",
    "import sys\n",
    "\n",
    "pattern = r\"cat.*cat\"\n",
    "\n",
    "for line in sys.stdin:\n",
    "    line = line.rstrip()\n",
    "    if re.search(pattern, line) is not None:\n",
    "        print(line)"
   ]
  },
  {
   "cell_type": "markdown",
   "metadata": {},
   "source": [
    "### Задача 2"
   ]
  },
  {
   "cell_type": "code",
   "execution_count": null,
   "metadata": {
    "collapsed": true
   },
   "outputs": [],
   "source": [
    "Вам дана последовательность строк.\n",
    "Выведите строки, содержащие \"cat\" в качестве слова."
   ]
  },
  {
   "cell_type": "code",
   "execution_count": null,
   "metadata": {
    "collapsed": true
   },
   "outputs": [],
   "source": [
    "import re\n",
    "import sys\n",
    "\n",
    "# \\b указыает на конец или начало слова\n",
    "pattern = r\"\\bcat\\b\"\n",
    "\n",
    "for line in sys.stdin:\n",
    "    line = line.rstrip()\n",
    "    if re.search(pattern, line) is not None:\n",
    "        print(line)"
   ]
  },
  {
   "cell_type": "markdown",
   "metadata": {},
   "source": [
    "### Задача 3"
   ]
  },
  {
   "cell_type": "markdown",
   "metadata": {},
   "source": [
    "Вам дана последовательность строк.\n",
    "Выведите строки, содержащие две буквы \"z﻿\", между которыми ровно три символа."
   ]
  },
  {
   "cell_type": "code",
   "execution_count": null,
   "metadata": {
    "collapsed": true
   },
   "outputs": [],
   "source": [
    "import re\n",
    "import sys\n",
    "\n",
    "pattern = r\"z.{3}z\"\n",
    "\n",
    "for line in sys.stdin:\n",
    "    line = line.rstrip()\n",
    "    if re.search(pattern, line) is not None:\n",
    "        print(line)"
   ]
  },
  {
   "cell_type": "markdown",
   "metadata": {},
   "source": [
    "### Задача 4"
   ]
  },
  {
   "cell_type": "markdown",
   "metadata": {},
   "source": [
    "Вам дана последовательность строк.\n",
    "Выведите строки, содержащие обратный слеш \"\\﻿\"."
   ]
  },
  {
   "cell_type": "code",
   "execution_count": null,
   "metadata": {
    "collapsed": true
   },
   "outputs": [],
   "source": [
    "import re\n",
    "import sys\n",
    "\n",
    "pattern = r\"\\\\\"\n",
    "\n",
    "for line in sys.stdin:\n",
    "    line = line.rstrip()\n",
    "    if re.search(pattern, line) is not None:\n",
    "        print(line)"
   ]
  },
  {
   "cell_type": "markdown",
   "metadata": {},
   "source": [
    "### Задача 5"
   ]
  },
  {
   "cell_type": "code",
   "execution_count": null,
   "metadata": {
    "collapsed": true
   },
   "outputs": [],
   "source": [
    "Вам дана последовательность строк.\n",
    "Выведите строки, содержащие слово, состоящее из двух одинаковых частей (тандемный повтор)."
   ]
  },
  {
   "cell_type": "code",
   "execution_count": null,
   "metadata": {
    "collapsed": true
   },
   "outputs": [],
   "source": [
    "import re\n",
    "import sys\n",
    "\n",
    "pattern = r\"\\b(\\w+)\\1\\b\"\n",
    "\n",
    "for line in sys.stdin:\n",
    "    line = line.rstrip()\n",
    "    if re.search(pattern, line) is not None:\n",
    "        print(line)"
   ]
  },
  {
   "cell_type": "markdown",
   "metadata": {},
   "source": [
    "### Здача 6"
   ]
  },
  {
   "cell_type": "markdown",
   "metadata": {},
   "source": [
    "Вам дана последовательность строк.\n",
    "В каждой строке замените все вхождения подстроки \"human\" на подстроку \"computer\"﻿ и выведите полученные строки."
   ]
  },
  {
   "cell_type": "code",
   "execution_count": null,
   "metadata": {
    "collapsed": true
   },
   "outputs": [],
   "source": [
    "import re\n",
    "import sys\n",
    "\n",
    "# pattern = r\"\\b(\\w+)\\1\\b\"\n",
    "for line in sys.stdin:\n",
    "    line = line.rstrip()\n",
    "    if re.search(r\"human\", line) is not None:\n",
    "        line = re.sub(r\"human\", \"computer\", line)\n",
    "    print(line)"
   ]
  },
  {
   "cell_type": "markdown",
   "metadata": {},
   "source": [
    "### Задача 7"
   ]
  },
  {
   "cell_type": "markdown",
   "metadata": {},
   "source": [
    "Вам дана последовательность строк.\n",
    "В каждой строке замените первое вхождение слова, состоящего только из латинских букв \"a\" (регистр не важен), на слово \"argh\"."
   ]
  },
  {
   "cell_type": "code",
   "execution_count": null,
   "metadata": {
    "collapsed": true
   },
   "outputs": [],
   "source": [
    "import re\n",
    "import sys\n",
    "\n",
    "pattern = r\"\\b[a]+\\b\"\n",
    "\n",
    "for line in sys.stdin:\n",
    "    line = line.rstrip()\n",
    "    if re.search(pattern, line, re.IGNORECASE) is not None:\n",
    "        line = re.sub(pattern, \"argh\", line, flags=re.IGNORECASE, count=1)\n",
    "    print(line)"
   ]
  },
  {
   "cell_type": "markdown",
   "metadata": {},
   "source": [
    "### Задача 8"
   ]
  },
  {
   "cell_type": "markdown",
   "metadata": {},
   "source": [
    "Вам дана последовательность строк.\n",
    "В каждой строке поменяйте местами две первых буквы в каждом слове, состоящем хотя бы из двух букв.\n",
    "Буквой считается символ из группы \\w."
   ]
  },
  {
   "cell_type": "code",
   "execution_count": null,
   "metadata": {
    "collapsed": true
   },
   "outputs": [],
   "source": [
    "import re\n",
    "import sys\n",
    "\n",
    "pattern = r\"\\b(\\w)(\\w)(\\w*)\\b\"\n",
    "\n",
    "for line in sys.stdin:\n",
    "    line = line.rstrip()\n",
    "    if re.search(pattern, line, re.IGNORECASE) is not None:\n",
    "        line = re.sub(pattern, r\"\\2\\1\\3\", line, flags=re.IGNORECASE,)\n",
    "    print(line)"
   ]
  },
  {
   "cell_type": "markdown",
   "metadata": {},
   "source": [
    "### Задача 9"
   ]
  },
  {
   "cell_type": "markdown",
   "metadata": {},
   "source": [
    "Вам дана последовательность строк.\n",
    "В каждой строке замените все вхождения нескольких одинаковых букв на одну букву.\n",
    "Буквой считается символ из группы \\w."
   ]
  },
  {
   "cell_type": "code",
   "execution_count": null,
   "metadata": {
    "collapsed": true
   },
   "outputs": [],
   "source": [
    "import re\n",
    "import sys\n",
    "\n",
    "pattern = r\"(\\w)\\1+\"\n",
    "\n",
    "for line in sys.stdin:\n",
    "    line = line.rstrip()\n",
    "    if re.search(pattern, line) is not None:\n",
    "        line = re.sub(pattern, r\"\\1\", line)\n",
    "    print(line)"
   ]
  }
 ],
 "metadata": {
  "kernelspec": {
   "display_name": "Python 3",
   "language": "python",
   "name": "python3"
  },
  "language_info": {
   "codemirror_mode": {
    "name": "ipython",
    "version": 3
   },
   "file_extension": ".py",
   "mimetype": "text/x-python",
   "name": "python",
   "nbconvert_exporter": "python",
   "pygments_lexer": "ipython3",
   "version": "3.5.1"
  }
 },
 "nbformat": 4,
 "nbformat_minor": 0
}
