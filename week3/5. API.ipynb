{
 "cells": [
  {
   "cell_type": "markdown",
   "metadata": {},
   "source": [
    "# API"
   ]
  },
  {
   "cell_type": "markdown",
   "metadata": {},
   "source": [
    "API - набор функций, констант и методов, которые доступны пользователю"
   ]
  },
  {
   "cell_type": "markdown",
   "metadata": {},
   "source": [
    "В качестве примера рассматривается api сервиса <a href=\"https://openweathermap.org/api\">opnenteathermap</a> - сервис для получения данных о погоди во всем мире"
   ]
  },
  {
   "cell_type": "code",
   "execution_count": 16,
   "metadata": {
    "collapsed": false
   },
   "outputs": [
    {
     "name": "stdout",
     "output_type": "stream",
     "text": [
      "City ? Kaluga\n",
      "200\n",
      "application/json; charset=utf-8\n",
      "Current tamperature in Kaluga is 17.04\n"
     ]
    }
   ],
   "source": [
    "import requests\n",
    "\n",
    "api_url = \"http://api.openweathermap.org/data/2.5/weather\"\n",
    "\n",
    "city = input(\"City ? \")\n",
    "\n",
    "params = {\n",
    "    'q': city,\n",
    "    'appid': '11c0d3dc6093f7442898ee49d2430d20',\n",
    "    'units': 'metric'\n",
    "}\n",
    "\n",
    "res = requests.get(api_url, params=params)\n",
    "print(res.status_code)\n",
    "print(res.headers[\"Content-Type\"])\n",
    "# print(res.json())\n",
    "\n",
    "data = res.json()\n",
    "template = 'Current tamperature in {} is {}'\n",
    "print(template.format(city, data[\"main\"][\"temp\"]))"
   ]
  },
  {
   "cell_type": "markdown",
   "metadata": {
    "collapsed": true
   },
   "source": [
    "### Задача 1"
   ]
  },
  {
   "cell_type": "code",
   "execution_count": 27,
   "metadata": {
    "collapsed": false
   },
   "outputs": [
    {
     "name": "stdout",
     "output_type": "stream",
     "text": [
      "999\n",
      "200\n",
      "Interesting\n"
     ]
    }
   ],
   "source": [
    "import requests\n",
    "\n",
    "numb = input()\n",
    "\n",
    "api_url = \"http://numbersapi.com/\" + numb + \"/math?json=true\"\n",
    "\n",
    "res = requests.get(api_url)\n",
    "\n",
    "print(res.status_code)\n",
    "if res.status_code == 200:\n",
    "    print('Interesting')\n",
    "else:\n",
    "    print('Boring')"
   ]
  }
 ],
 "metadata": {
  "kernelspec": {
   "display_name": "Python 3",
   "language": "python",
   "name": "python3"
  },
  "language_info": {
   "codemirror_mode": {
    "name": "ipython",
    "version": 3
   },
   "file_extension": ".py",
   "mimetype": "text/x-python",
   "name": "python",
   "nbconvert_exporter": "python",
   "pygments_lexer": "ipython3",
   "version": "3.5.0"
  }
 },
 "nbformat": 4,
 "nbformat_minor": 0
}
