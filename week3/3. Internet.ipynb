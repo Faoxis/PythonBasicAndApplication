{
 "cells": [
  {
   "cell_type": "markdown",
   "metadata": {},
   "source": [
    "# Обзорно об интернете"
   ]
  },
  {
   "cell_type": "code",
   "execution_count": 3,
   "metadata": {
    "collapsed": false
   },
   "outputs": [
    {
     "name": "stdout",
     "output_type": "stream",
     "text": [
      "200\n",
      "text/html\n",
      "<!DOCTYPE html PUBLIC \"-//W3C//DTD XHTML 1.0 Transitional//EN\"\n",
      "  \"http://www.w3.org/TR/xhtml1/DTD/xhtml1-transitional.dtd\">\n",
      "\n",
      "\n",
      "<html xmlns=\"http://www.w3.org/1999/xhtml\">\n",
      "  <head>\n",
      "    <meta http-equiv=\"Content-Type\" content=\"text/html; charset=utf-8\" />\n",
      "    \n",
      "    <title>Overview &mdash; Python 3.5.2 documentation</title>\n",
      "    \n",
      "    <link rel=\"stylesheet\" href=\"_static/pydoctheme.css\" type=\"text/css\" />\n",
      "    <link rel=\"stylesheet\" href=\"_static/pygments.css\" type=\"text/css\" />\n",
      "    \n",
      "    <script type=\"text/javascript\">\n",
      "      var DOCUMENTATION_OPTIONS = {\n",
      "        URL_ROOT:    './',\n",
      "        VERSION:     '3.5.2',\n",
      "        COLLAPSE_INDEX: false,\n",
      "        FILE_SUFFIX: '.html',\n",
      "        HAS_SOURCE:  true\n",
      "      };\n",
      "    </script>\n",
      "    <script type=\"text/javascript\" src=\"_static/jquery.js\"></script>\n",
      "    <script type=\"text/javascript\" src=\"_static/underscore.js\"></script>\n",
      "    <script type=\"text/javascript\" src=\"_static/doctools.js\"></script>\n",
      "    <script type=\"text/javascript\" src=\"_static/sidebar.js\"></script>\n",
      "    <link rel=\"search\" type=\"application/opensearchdescription+xml\"\n",
      "          title=\"Search within Python 3.5.2 documentation\"\n",
      "          href=\"_static/opensearch.xml\"/>\n",
      "    <link rel=\"author\" title=\"About these documents\" href=\"about.html\" />\n",
      "    <link rel=\"copyright\" title=\"Copyright\" href=\"copyright.html\" />\n",
      "    <link rel=\"top\" title=\"Python 3.5.2 documentation\" href=\"contents.html\" />\n",
      "    <link rel=\"shortcut icon\" type=\"image/png\" href=\"_static/py.png\" />\n",
      "    <script type=\"text/javascript\" src=\"_static/copybutton.js\"></script>\n",
      "    <script type=\"text/javascript\" src=\"_static/version_switch.js\"></script>\n",
      "    \n",
      " \n",
      "\n",
      "  </head>\n",
      "  <body role=\"document\">  \n",
      "    <div class=\"related\" role=\"navigation\" aria-label=\"related navigation\">\n",
      "      <h3>Navigation</h3>\n",
      "      <ul>\n",
      "        <li class=\"right\" style=\"margin-right: 10px\">\n",
      "          <a href=\"genindex.html\" title=\"General Index\"\n",
      "             accesskey=\"I\">index</a></li>\n",
      "        <li class=\"right\" >\n",
      "          <a href=\"py-modindex.html\" title=\"Python Module Index\"\n",
      "             >modules</a> |</li>\n",
      "        <li><img src=\"_static/py.png\" alt=\"\"\n",
      "                 style=\"vertical-align: middle; margin-top: -1px\"/></li>\n",
      "        <li><a href=\"https://www.python.org/\">Python</a> &raquo;</li>\n",
      "        <li>\n",
      "          <span class=\"version_switcher_placeholder\">3.5.2</span>\n",
      "          <a href=\"#\">Documentation </a> &raquo;\n",
      "        </li>\n",
      " \n",
      "      </ul>\n",
      "    </div>    \n",
      "\n",
      "    <div class=\"document\">\n",
      "      <div class=\"documentwrapper\">\n",
      "        <div class=\"bodywrapper\">\n",
      "          <div class=\"body\" role=\"main\">\n",
      "            \n",
      "  <h1>Python 3.5.2 documentation</h1>\n",
      "  <p>\n",
      "    Welcome! This is\n",
      "    the documentation for Python\n",
      "    3.5.2, last updated Jun 30, 2016.\n",
      "  </p>\n",
      "  \n",
      "  <p><strong>Parts of the documentation:</strong></p>\n",
      "  <table class=\"contentstable\" align=\"center\"><tr>\n",
      "    <td width=\"50%\">\n",
      "      <p class=\"biglink\"><a class=\"biglink\" href=\"whatsnew/3.5.html\">What's new in Python 3.5?</a><br/>\n",
      "        <span class=\"linkdescr\"> or <a href=\"whatsnew/index.html\">all \"What's new\" documents</a> since 2.0</span></p>\n",
      "      <p class=\"biglink\"><a class=\"biglink\" href=\"tutorial/index.html\">Tutorial</a><br/>\n",
      "         <span class=\"linkdescr\">start here</span></p>\n",
      "      <p class=\"biglink\"><a class=\"biglink\" href=\"library/index.html\">Library Reference</a><br/>\n",
      "         <span class=\"linkdescr\">keep this under your pillow</span></p>\n",
      "      <p class=\"biglink\"><a class=\"biglink\" href=\"reference/index.html\">Language Reference</a><br/>\n",
      "         <span class=\"linkdescr\">describes syntax and language elements</span></p>\n",
      "      <p class=\"biglink\"><a class=\"biglink\" href=\"using/index.html\">Python Setup and Usage</a><br/>\n",
      "         <span class=\"linkdescr\">how to use Python on different platforms</span></p>\n",
      "      <p class=\"biglink\"><a class=\"biglink\" href=\"howto/index.html\">Python HOWTOs</a><br/>\n",
      "         <span class=\"linkdescr\">in-depth documents on specific topics</span></p>\n",
      "    </td><td width=\"50%\">\n",
      "      <p class=\"biglink\"><a class=\"biglink\" href=\"installing/index.html\">Installing Python Modules</a><br/>\n",
      "         <span class=\"linkdescr\">installing from the Python Package Index &amp; other sources</span></p>\n",
      "      <p class=\"biglink\"><a class=\"biglink\" href=\"distributing/index.html\">Distributing Python Modules</a><br/>\n",
      "         <span class=\"linkdescr\">publishing modules for installation by others</span></p>\n",
      "      <p class=\"biglink\"><a class=\"biglink\" href=\"extending/index.html\">Extending and Embedding</a><br/>\n",
      "         <span class=\"linkdescr\">tutorial for C/C++ programmers</span></p>\n",
      "      <p class=\"biglink\"><a class=\"biglink\" href=\"c-api/index.html\">Python/C API</a><br/>\n",
      "         <span class=\"linkdescr\">reference for C/C++ programmers</span></p>\n",
      "      <p class=\"biglink\"><a class=\"biglink\" href=\"faq/index.html\">FAQs</a><br/>\n",
      "         <span class=\"linkdescr\">frequently asked questions (with answers!)</span></p>\n",
      "    </td></tr>\n",
      "  </table>\n",
      "\n",
      "  <p><strong>Indices and tables:</strong></p>\n",
      "  <table class=\"contentstable\" align=\"center\"><tr>\n",
      "    <td width=\"50%\">\n",
      "      <p class=\"biglink\"><a class=\"biglink\" href=\"py-modindex.html\">Global Module Index</a><br/>\n",
      "         <span class=\"linkdescr\">quick access to all modules</span></p>\n",
      "      <p class=\"biglink\"><a class=\"biglink\" href=\"genindex.html\">General Index</a><br/>\n",
      "         <span class=\"linkdescr\">all functions, classes, terms</span></p>\n",
      "      <p class=\"biglink\"><a class=\"biglink\" href=\"glossary.html\">Glossary</a><br/>\n",
      "         <span class=\"linkdescr\">the most important terms explained</span></p>\n",
      "    </td><td width=\"50%\">\n",
      "      <p class=\"biglink\"><a class=\"biglink\" href=\"search.html\">Search page</a><br/>\n",
      "         <span class=\"linkdescr\">search this documentation</span></p>\n",
      "      <p class=\"biglink\"><a class=\"biglink\" href=\"contents.html\">Complete Table of Contents</a><br/>\n",
      "         <span class=\"linkdescr\">lists all sections and subsections</span></p>\n",
      "    </td></tr>\n",
      "  </table>\n",
      "\n",
      "  <p><strong>Meta information:</strong></p>\n",
      "  <table class=\"contentstable\" align=\"center\"><tr>\n",
      "    <td width=\"50%\">\n",
      "      <p class=\"biglink\"><a class=\"biglink\" href=\"bugs.html\">Reporting bugs</a></p>\n",
      "      <p class=\"biglink\"><a class=\"biglink\" href=\"about.html\">About the documentation</a></p>\n",
      "    </td><td width=\"50%\">\n",
      "      <p class=\"biglink\"><a class=\"biglink\" href=\"license.html\">History and License of Python</a></p>\n",
      "      <p class=\"biglink\"><a class=\"biglink\" href=\"copyright.html\">Copyright</a></p>\n",
      "    </td></tr>\n",
      "  </table>\n",
      "\n",
      "\n",
      "          </div>\n",
      "        </div>\n",
      "      </div>\n",
      "      <div class=\"sphinxsidebar\" role=\"navigation\" aria-label=\"main navigation\">\n",
      "        <div class=\"sphinxsidebarwrapper\">\n",
      "<h3>Download</h3>\n",
      "<p><a href=\"download.html\">Download these documents</a></p>\n",
      "<h3>Docs for other versions</h3>\n",
      "<ul>\n",
      "  <li><a href=\"https://docs.python.org/2.7/\">Python 2.7 (stable)</a></li>\n",
      "  <li><a href=\"https://docs.python.org/3.4/\">Python 3.4 (stable)</a></li>\n",
      "  <li><a href=\"https://www.python.org/doc/versions/\">Old versions</a></li>\n",
      "</ul>\n",
      "\n",
      "<h3>Other resources</h3>\n",
      "<ul>\n",
      "  \n",
      "  <li><a href=\"https://www.python.org/dev/peps/\">PEP Index</a></li>\n",
      "  <li><a href=\"https://wiki.python.org/moin/BeginnersGuide\">Beginner's Guide</a></li>\n",
      "  <li><a href=\"https://wiki.python.org/moin/PythonBooks\">Book List</a></li>\n",
      "  <li><a href=\"https://www.python.org/doc/av/\">Audio/Visual Talks</a></li>\n",
      "</ul>\n",
      "<div id=\"searchbox\" style=\"display: none\" role=\"search\">\n",
      "  <h3>Quick search</h3>\n",
      "    <form class=\"search\" action=\"search.html\" method=\"get\">\n",
      "      <input type=\"text\" name=\"q\" />\n",
      "      <input type=\"submit\" value=\"Go\" />\n",
      "      <input type=\"hidden\" name=\"check_keywords\" value=\"yes\" />\n",
      "      <input type=\"hidden\" name=\"area\" value=\"default\" />\n",
      "    </form>\n",
      "    <p class=\"searchtip\" style=\"font-size: 90%\">\n",
      "    Enter search terms or a module, class or function name.\n",
      "    </p>\n",
      "</div>\n",
      "<script type=\"text/javascript\">$('#searchbox').show(0);</script>\n",
      "        </div>\n",
      "      </div>\n",
      "      <div class=\"clearer\"></div>\n",
      "    </div>  \n",
      "    <div class=\"related\" role=\"navigation\" aria-label=\"related navigation\">\n",
      "      <h3>Navigation</h3>\n",
      "      <ul>\n",
      "        <li class=\"right\" style=\"margin-right: 10px\">\n",
      "          <a href=\"genindex.html\" title=\"General Index\"\n",
      "             >index</a></li>\n",
      "        <li class=\"right\" >\n",
      "          <a href=\"py-modindex.html\" title=\"Python Module Index\"\n",
      "             >modules</a> |</li>\n",
      "        <li><img src=\"_static/py.png\" alt=\"\"\n",
      "                 style=\"vertical-align: middle; margin-top: -1px\"/></li>\n",
      "        <li><a href=\"https://www.python.org/\">Python</a> &raquo;</li>\n",
      "        <li>\n",
      "          <span class=\"version_switcher_placeholder\">3.5.2</span>\n",
      "          <a href=\"#\">Documentation </a> &raquo;\n",
      "        </li>\n",
      " \n",
      "      </ul>\n",
      "    </div>  \n",
      "    <div class=\"footer\">\n",
      "    &copy; <a href=\"copyright.html\">Copyright</a> 2001-2016, Python Software Foundation.\n",
      "    <br />\n",
      "    The Python Software Foundation is a non-profit corporation.\n",
      "    <a href=\"https://www.python.org/psf/donations/\">Please donate.</a>\n",
      "    <br />\n",
      "    Last updated on Jun 30, 2016.\n",
      "    <a href=\"bugs.html\">Found a bug</a>?\n",
      "    <br />\n",
      "    Created using <a href=\"http://sphinx.pocoo.org/\">Sphinx</a> 1.3.3.\n",
      "    </div>\n",
      "\n",
      "  </body>\n",
      "</html>\n"
     ]
    }
   ],
   "source": [
    "import requests\n",
    "\n",
    "res = requests.get(\"https://docs.python.org/3.5/\") # Метод возвращаеn объект типа Response\n",
    "print(res.status_code)\n",
    "print(res.headers['Content-Type'])\n",
    "\n",
    "#print(res.content)\n",
    "\n",
    "# Если мы уверены в том, что содержание ответа текст, то можно воспользоваться атрибутом text\n",
    "print(res.text)"
   ]
  },
  {
   "cell_type": "code",
   "execution_count": null,
   "metadata": {
    "collapsed": true
   },
   "outputs": [],
   "source": [
    "Если нам известны имена параметров, то их можно передать с помощью библиотеки requests"
   ]
  },
  {
   "cell_type": "code",
   "execution_count": 7,
   "metadata": {
    "collapsed": false
   },
   "outputs": [
    {
     "name": "stdout",
     "output_type": "stream",
     "text": [
      "200\n",
      "text/html; charset=utf-8\n",
      "https://yandex.ru/search/?name=Name+Width+Spaces&test=test1&list=test1&list=test2\n"
     ]
    }
   ],
   "source": [
    "import requests\n",
    "\n",
    "res = requests.get(\"https://yandex.ru/search/\", \n",
    "                   params = {\n",
    "                        \"test\": \"Stepic\",\n",
    "                        \"test\": \"test1\",\n",
    "                        \"name\": \"Name Width Spaces\",\n",
    "                        \"list\": [\"test1\", \"test2\"]\n",
    "                        })\n",
    "\n",
    "print(res.status_code)\n",
    "print(res.headers['Content-Type'])\n",
    "print(res.url)\n",
    "\n",
    "# print(res.text)"
   ]
  },
  {
   "cell_type": "markdown",
   "metadata": {},
   "source": [
    "### Задачи"
   ]
  },
  {
   "cell_type": "markdown",
   "metadata": {},
   "source": [
    "#### Задача 1"
   ]
  },
  {
   "cell_type": "markdown",
   "metadata": {},
   "source": [
    "Рассмотрим два HTML-документа A и B.\n",
    "Из A можно перейти в B за один переход, если в A есть ссылка на B, т. е. внутри A есть тег <a href=\"B\">, возможно с дополнительными параметрами внутри тега.\n",
    "Из A можно перейти в B за два перехода если существует такой документ C, что из A в C можно перейти за один переход и из C в B можно перейти за один переход.\n",
    "\n",
    "Вашей программе на вход подаются две строки, содержащие url двух документов A и B.\n",
    "Выведите Yes, если из A в B можно перейти за два перехода, иначе выведите No.\n",
    "\n",
    "Обратите внимание на то, что не все ссылки внутри HTML документа могут вести на существующие HTML документы."
   ]
  },
  {
   "cell_type": "code",
   "execution_count": 30,
   "metadata": {
    "collapsed": false
   },
   "outputs": [
    {
     "name": "stdout",
     "output_type": "stream",
     "text": [
      "https://stepic.org/media/attachments/lesson/24472/sample1.html\n",
      "https://stepic.org/media/attachments/lesson/24472/sample2.html\n",
      "Yes\n"
     ]
    }
   ],
   "source": [
    "import requests\n",
    "import re\n",
    "\n",
    "# В данном задании я не учитываю возможные пробелы, но вообще это делать нужно\n",
    "pattern = r\"<a href=\\\"(.+)\\\">\"\n",
    "\n",
    "url1 = input()\n",
    "url2 = input()\n",
    "\n",
    "res = requests.get(url1)\n",
    "all_href = re.findall(pattern, res.text)\n",
    "\n",
    "result = \"No\"\n",
    "\n",
    "for href in all_href:\n",
    "    temp_res = requests.get(href)\n",
    "    if re.search(url2, temp_res.text):\n",
    "        result = \"Yes\"\n",
    "print(result)\n"
   ]
  },
  {
   "cell_type": "markdown",
   "metadata": {},
   "source": [
    "#### Задача 2"
   ]
  },
  {
   "cell_type": "markdown",
   "metadata": {},
   "source": [
    "Вашей программе на вход подается ссылка на HTML файл.\n",
    "Вам необходимо скачать этот файл, затем найти в нем все ссылки вида \"<a ... href=\"...\" ... >\" и вывести список сайтов, на которые есть ссылка.\n",
    "\n",
    "Сайтом в данной задаче будем называть имя домена вместе с именами поддоменов. То есть, это последовательность символов, которая следует сразу после символов протокола, если он есть, до символов порта или пути, если они есть, за исключением случаев с относительными ссылками вида\n",
    "\"<a href=\"../some_path/index.html\">\".\n",
    "\n",
    "Сайты следует выводить в алфавитном порядке."
   ]
  },
  {
   "cell_type": "code",
   "execution_count": 14,
   "metadata": {
    "collapsed": false
   },
   "outputs": [
    {
     "name": "stdout",
     "output_type": "stream",
     "text": [
      "http://localhost/\n",
      "mail.ru\n",
      "neerc.ifmo.ru\n",
      "stepic.org\n",
      "www.ya.ru\n",
      "ya.ru\n"
     ]
    }
   ],
   "source": [
    "import requests\n",
    "import re\n",
    "\n",
    "def get_list_of_urls(url):\n",
    "    pattern = r'<a.+href\\ *=\\ *[\"\\'](\\w.+)[\"\\']\\ *>'\n",
    "    res = requests.get(url)\n",
    "    return re.findall(pattern, res.text)\n",
    "\n",
    "def get_domain_from_list_of_urls(urls):\n",
    "    pattern = r\"//(\\w[\\w\\.-]+)[/:]?\"\n",
    "    domains = list()\n",
    "    for url in urls:\n",
    "        temp = re.search(pattern, url)\n",
    "        if temp is not None:\n",
    "            domains += [temp.group(1)]\n",
    "        else:\n",
    "            domains += [url]\n",
    "    return domains\n",
    "\n",
    "\n",
    "list_of_urls = get_list_of_urls(input())\n",
    "#print(list_of_urls)\n",
    "list_of_domain = list(set(get_domain_from_list_of_urls(list_of_urls)))\n",
    "list_of_domain.sort()\n",
    "for domain in list_of_domain:\n",
    "    print(domain)\n"
   ]
  }
 ],
 "metadata": {
  "kernelspec": {
   "display_name": "Python 3",
   "language": "python",
   "name": "python3"
  },
  "language_info": {
   "codemirror_mode": {
    "name": "ipython",
    "version": 3
   },
   "file_extension": ".py",
   "mimetype": "text/x-python",
   "name": "python",
   "nbconvert_exporter": "python",
   "pygments_lexer": "ipython3",
   "version": "3.5.0"
  }
 },
 "nbformat": 4,
 "nbformat_minor": 0
}
